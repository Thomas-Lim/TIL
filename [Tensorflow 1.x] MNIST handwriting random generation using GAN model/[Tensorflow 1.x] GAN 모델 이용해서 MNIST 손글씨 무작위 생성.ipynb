{
 "cells": [
  {
   "cell_type": "markdown",
   "metadata": {},
   "source": [
    "# GAN 모델 이용해서 MNIST 손글씨 무작위 생성"
   ]
  },
  {
   "cell_type": "code",
   "execution_count": 3,
   "metadata": {},
   "outputs": [
    {
     "name": "stdout",
     "output_type": "stream",
     "text": [
      "WARNING:tensorflow:From C:\\Users\\fu\\Anaconda3\\lib\\site-packages\\tensorflow\\contrib\\learn\\python\\learn\\datasets\\mnist.py:260: maybe_download (from tensorflow.contrib.learn.python.learn.datasets.base) is deprecated and will be removed in a future version.\n",
      "Instructions for updating:\n",
      "Please write your own downloading logic.\n",
      "WARNING:tensorflow:From C:\\Users\\fu\\Anaconda3\\lib\\site-packages\\tensorflow\\contrib\\learn\\python\\learn\\datasets\\mnist.py:262: extract_images (from tensorflow.contrib.learn.python.learn.datasets.mnist) is deprecated and will be removed in a future version.\n",
      "Instructions for updating:\n",
      "Please use tf.data to implement this functionality.\n",
      "Extracting ./mnist/data\\train-images-idx3-ubyte.gz\n",
      "WARNING:tensorflow:From C:\\Users\\fu\\Anaconda3\\lib\\site-packages\\tensorflow\\contrib\\learn\\python\\learn\\datasets\\mnist.py:267: extract_labels (from tensorflow.contrib.learn.python.learn.datasets.mnist) is deprecated and will be removed in a future version.\n",
      "Instructions for updating:\n",
      "Please use tf.data to implement this functionality.\n",
      "Extracting ./mnist/data\\train-labels-idx1-ubyte.gz\n",
      "WARNING:tensorflow:From C:\\Users\\fu\\Anaconda3\\lib\\site-packages\\tensorflow\\contrib\\learn\\python\\learn\\datasets\\mnist.py:110: dense_to_one_hot (from tensorflow.contrib.learn.python.learn.datasets.mnist) is deprecated and will be removed in a future version.\n",
      "Instructions for updating:\n",
      "Please use tf.one_hot on tensors.\n",
      "Extracting ./mnist/data\\t10k-images-idx3-ubyte.gz\n",
      "Extracting ./mnist/data\\t10k-labels-idx1-ubyte.gz\n",
      "WARNING:tensorflow:From C:\\Users\\fu\\Anaconda3\\lib\\site-packages\\tensorflow\\contrib\\learn\\python\\learn\\datasets\\mnist.py:290: DataSet.__init__ (from tensorflow.contrib.learn.python.learn.datasets.mnist) is deprecated and will be removed in a future version.\n",
      "Instructions for updating:\n",
      "Please use alternatives such as official/mnist/dataset.py from tensorflow/models.\n"
     ]
    }
   ],
   "source": [
    "import tensorflow as tf\n",
    "import matplotlib.pyplot as plt\n",
    "import numpy as np\n",
    "\n",
    "from tensorflow.examples.tutorials.mnist import input_data\n",
    "mnist = input_data.read_data_sets(\"./mnist/data\", one_hot=True)"
   ]
  },
  {
   "cell_type": "code",
   "execution_count": 4,
   "metadata": {},
   "outputs": [],
   "source": [
    "# 하이퍼 파라미터 생성\n",
    "total_epoch = 100\n",
    "batch_size = 100\n",
    "learning_rate = 0.0002\n",
    "n_hidden = 256\n",
    "n_input = 28 * 28  # 실제 이미지 크기\n",
    "n_noise = 128  # 생성자의 입력값으로 사용할 노이즈의 크기\n",
    "# 즉, 랜덤한 노이즈를 입력하고 그 노이즈에서 손글씨 이미지를 무작위로 생성해내도록 한다."
   ]
  },
  {
   "cell_type": "code",
   "execution_count": 5,
   "metadata": {},
   "outputs": [],
   "source": [
    "# GAN도 비지도 학습이므로 오토인코더처럼 Y를 사용하지 않는다.\n",
    "X = tf.placeholder(tf.float32, [None, n_input])\n",
    "Z = tf.placeholder(tf.float32, [None, n_noise]) # 가짜 이미지용 플레이스홀더"
   ]
  },
  {
   "cell_type": "code",
   "execution_count": 6,
   "metadata": {},
   "outputs": [],
   "source": [
    "G_W1 = tf.Variable(tf.random_normal([n_noise, n_hidden], stddev=0.01))\n",
    "G_b1 = tf.Variable(tf.zeros([n_hidden]))\n",
    "G_W2 = tf.Variable(tf.random_normal([n_hidden, n_input], stddev=0.01)) #가중치\n",
    "G_b2 = tf.Variable(tf.zeros([n_input])) #편향(바이어스)"
   ]
  },
  {
   "cell_type": "code",
   "execution_count": 7,
   "metadata": {},
   "outputs": [],
   "source": [
    "# 구분자 신경망에 사용할 변수들 설정\n",
    "D_W1 = tf.Variable(tf.random_normal([n_input, n_hidden], stddev=0.01))\n",
    "D_b1 = tf.Variable(tf.zeros([n_hidden]))\n",
    "D_W2 = tf.Variable(tf.random_normal([n_hidden, 1], stddev=0.01))  # 0~1사이 값 출력으로, 스칼라 값 출력하도록 구성\n",
    "D_b2 = tf.Variable(tf.zeros([1]))"
   ]
  },
  {
   "cell_type": "code",
   "execution_count": 8,
   "metadata": {},
   "outputs": [],
   "source": [
    "def generator(noise_z):\n",
    "    hidden = tf.nn.relu(tf.matmul(noise_z, G_W1) + G_b1)\n",
    "    output = tf.nn.sigmoid(tf.matmul(hidden, G_W2) + G_b2)\n",
    "    \n",
    "    return output\n",
    "\n",
    "# 생성자는 무작위로 생성한 노이즈를 받아 가중치와 편향 반영해 은닉층 생성 -> 은닉층에서 실제 이미지와 같은 크기의 결괏값을 출력하는 구성"
   ]
  },
  {
   "cell_type": "code",
   "execution_count": 10,
   "metadata": {},
   "outputs": [],
   "source": [
    "# 구분자 신경망도 같은 구성이지만 0~1 사이의 스칼라값을 출력하도록 생성\n",
    "def discriminator(inputs):\n",
    "    hidden = tf.nn.relu(tf.matmul(inputs, D_W1) + D_b1)\n",
    "    output = tf.nn.sigmoid(tf.matmul(hidden, D_W2) + D_b2)\n",
    "    \n",
    "    return output"
   ]
  },
  {
   "cell_type": "code",
   "execution_count": 11,
   "metadata": {},
   "outputs": [],
   "source": [
    "# 무작위한 노이즈 만들어주는 함수\n",
    "def get_noise(batch_size, n_noise):\n",
    "    return np.random.normal(size=(batch_size, n_noise))"
   ]
  },
  {
   "cell_type": "code",
   "execution_count": 16,
   "metadata": {},
   "outputs": [],
   "source": [
    "# 노이즈Z를 이용해 가짜 이미지 생성자 G 만들고, G가 만든 가짜이미지와, X의 진짜 이미지를 각각 구분자에 넣어 진짜인지 확인\n",
    "G = generator(Z)\n",
    "D_gene = discriminator(G)\n",
    "D_real = discriminator(X)"
   ]
  },
  {
   "cell_type": "code",
   "execution_count": 17,
   "metadata": {},
   "outputs": [],
   "source": [
    "# 손실값 구하기. 가짜 손실값, 진짜 손실값\n",
    "# 경찰 학습시 진짜이미지 판별값은 D_real은 1에 가까워짐(진짜라고 판별)\n",
    "loss_D = tf.reduce_mean(tf.log(D_real) + tf.log(1 - D_gene))"
   ]
  },
  {
   "cell_type": "code",
   "execution_count": 18,
   "metadata": {},
   "outputs": [],
   "source": [
    "# D_real과 1에서 D_gene를 뺀 값을 더한 값을 손실값으로 하여, 이 값을 최대화하면 경찰 학습이 이뤄진다.\n",
    "# 위조지폐범 학습은 가짜 이미지 판별값 D_gene를 1에 가깝게 만들면 된다. 즉, 가짜 이미지를 넣어도 진짜같다고 판별해야 한다.\n",
    "loss_G = tf.reduce_mean(tf.log(D_gene))"
   ]
  },
  {
   "cell_type": "code",
   "execution_count": 19,
   "metadata": {},
   "outputs": [],
   "source": [
    "# 손실값들을 이용해 학습. 각 생성자 신경망에 사용되는 변수들만 사용해 최적화해야 한다.\n",
    "D_var_list = [D_W1, D_b1, D_W2, D_b2]\n",
    "G_var_list = [G_W1, G_b1, G_W2, G_b2]\n",
    "# 서로 경쟁관계에 있기 때문이다."
   ]
  },
  {
   "cell_type": "code",
   "execution_count": 21,
   "metadata": {},
   "outputs": [],
   "source": [
    "#GAN 논문에 따라 loss를 최대화 해 변수들을 최적화 한다.\n",
    "train_D = tf.train.AdamOptimizer(learning_rate).minimize(-loss_D, var_list=D_var_list)\n",
    "train_G = tf.train.AdamOptimizer(learning_rate).minimize(-loss_G, var_list=G_var_list)"
   ]
  },
  {
   "cell_type": "code",
   "execution_count": 22,
   "metadata": {},
   "outputs": [
    {
     "name": "stdout",
     "output_type": "stream",
     "text": [
      "Epoch: 0000 D loss: -0.4272 G loss: -2.131\n",
      "Epoch: 0001 D loss: -0.3348 G loss: -2.264\n",
      "Epoch: 0002 D loss: -0.2304 G loss: -2.501\n",
      "Epoch: 0003 D loss: -0.3105 G loss: -1.813\n",
      "Epoch: 0004 D loss: -0.217 G loss: -2.481\n",
      "Epoch: 0005 D loss: -0.1334 G loss: -3.34\n",
      "Epoch: 0006 D loss: -0.16 G loss: -3.367\n",
      "Epoch: 0007 D loss: -0.2907 G loss: -2.457\n",
      "Epoch: 0008 D loss: -0.07033 G loss: -3.489\n",
      "Epoch: 0009 D loss: -0.1968 G loss: -3.082\n",
      "Epoch: 0010 D loss: -0.2034 G loss: -3.193\n",
      "Epoch: 0011 D loss: -0.1853 G loss: -3.03\n",
      "Epoch: 0012 D loss: -0.3591 G loss: -2.692\n",
      "Epoch: 0013 D loss: -0.2986 G loss: -2.551\n",
      "Epoch: 0014 D loss: -0.4465 G loss: -2.429\n",
      "Epoch: 0015 D loss: -0.3847 G loss: -2.521\n",
      "Epoch: 0016 D loss: -0.3419 G loss: -2.548\n",
      "Epoch: 0017 D loss: -0.3668 G loss: -2.517\n",
      "Epoch: 0018 D loss: -0.3826 G loss: -2.283\n",
      "Epoch: 0019 D loss: -0.4731 G loss: -2.433\n",
      "Epoch: 0020 D loss: -0.4804 G loss: -2.722\n",
      "Epoch: 0021 D loss: -0.5006 G loss: -2.371\n",
      "Epoch: 0022 D loss: -0.4723 G loss: -2.324\n",
      "Epoch: 0023 D loss: -0.5571 G loss: -2.598\n",
      "Epoch: 0024 D loss: -0.389 G loss: -2.472\n",
      "Epoch: 0025 D loss: -0.4951 G loss: -2.507\n",
      "Epoch: 0026 D loss: -0.4393 G loss: -2.434\n",
      "Epoch: 0027 D loss: -0.3497 G loss: -2.838\n",
      "Epoch: 0028 D loss: -0.4183 G loss: -2.382\n",
      "Epoch: 0029 D loss: -0.5807 G loss: -2.735\n",
      "Epoch: 0030 D loss: -0.5355 G loss: -2.169\n",
      "Epoch: 0031 D loss: -0.5763 G loss: -2.405\n",
      "Epoch: 0032 D loss: -0.4635 G loss: -2.774\n",
      "Epoch: 0033 D loss: -0.453 G loss: -2.56\n",
      "Epoch: 0034 D loss: -0.4182 G loss: -2.678\n",
      "Epoch: 0035 D loss: -0.6258 G loss: -2.356\n",
      "Epoch: 0036 D loss: -0.6366 G loss: -2.138\n",
      "Epoch: 0037 D loss: -0.6268 G loss: -2.325\n",
      "Epoch: 0038 D loss: -0.5411 G loss: -2.352\n",
      "Epoch: 0039 D loss: -0.5746 G loss: -2.105\n",
      "Epoch: 0040 D loss: -0.5716 G loss: -2.171\n",
      "Epoch: 0041 D loss: -0.5417 G loss: -2.533\n",
      "Epoch: 0042 D loss: -0.6504 G loss: -2.399\n",
      "Epoch: 0043 D loss: -0.6104 G loss: -2.211\n",
      "Epoch: 0044 D loss: -0.6895 G loss: -2.397\n",
      "Epoch: 0045 D loss: -0.5629 G loss: -1.984\n",
      "Epoch: 0046 D loss: -0.5801 G loss: -1.856\n",
      "Epoch: 0047 D loss: -0.6391 G loss: -2.295\n",
      "Epoch: 0048 D loss: -0.745 G loss: -1.913\n",
      "Epoch: 0049 D loss: -0.6778 G loss: -2.247\n",
      "Epoch: 0050 D loss: -0.7883 G loss: -2.066\n",
      "Epoch: 0051 D loss: -0.7383 G loss: -2.031\n",
      "Epoch: 0052 D loss: -0.6547 G loss: -1.831\n",
      "Epoch: 0053 D loss: -0.641 G loss: -2.168\n",
      "Epoch: 0054 D loss: -0.7095 G loss: -1.986\n",
      "Epoch: 0055 D loss: -0.8065 G loss: -1.894\n",
      "Epoch: 0056 D loss: -0.722 G loss: -1.9\n",
      "Epoch: 0057 D loss: -0.7754 G loss: -1.998\n",
      "Epoch: 0058 D loss: -0.8469 G loss: -1.83\n",
      "Epoch: 0059 D loss: -0.7493 G loss: -1.758\n",
      "Epoch: 0060 D loss: -0.9775 G loss: -1.844\n",
      "Epoch: 0061 D loss: -0.7387 G loss: -1.949\n",
      "Epoch: 0062 D loss: -0.7517 G loss: -1.938\n",
      "Epoch: 0063 D loss: -0.7474 G loss: -1.751\n",
      "Epoch: 0064 D loss: -1.022 G loss: -1.717\n",
      "Epoch: 0065 D loss: -0.7258 G loss: -1.817\n",
      "Epoch: 0066 D loss: -0.7259 G loss: -1.939\n",
      "Epoch: 0067 D loss: -0.8791 G loss: -1.662\n",
      "Epoch: 0068 D loss: -0.7767 G loss: -1.834\n",
      "Epoch: 0069 D loss: -0.9343 G loss: -1.643\n",
      "Epoch: 0070 D loss: -0.8178 G loss: -1.734\n",
      "Epoch: 0071 D loss: -0.6332 G loss: -1.743\n",
      "Epoch: 0072 D loss: -0.947 G loss: -1.663\n",
      "Epoch: 0073 D loss: -0.8476 G loss: -1.776\n",
      "Epoch: 0074 D loss: -0.835 G loss: -1.968\n",
      "Epoch: 0075 D loss: -0.761 G loss: -1.674\n",
      "Epoch: 0076 D loss: -0.807 G loss: -1.519\n",
      "Epoch: 0077 D loss: -0.7961 G loss: -1.777\n",
      "Epoch: 0078 D loss: -0.8152 G loss: -1.693\n",
      "Epoch: 0079 D loss: -0.9018 G loss: -1.437\n",
      "Epoch: 0080 D loss: -0.6251 G loss: -1.973\n",
      "Epoch: 0081 D loss: -0.8715 G loss: -1.908\n",
      "Epoch: 0082 D loss: -0.855 G loss: -1.833\n",
      "Epoch: 0083 D loss: -0.7386 G loss: -1.625\n",
      "Epoch: 0084 D loss: -0.8657 G loss: -1.546\n",
      "Epoch: 0085 D loss: -0.6666 G loss: -1.768\n",
      "Epoch: 0086 D loss: -0.843 G loss: -1.709\n",
      "Epoch: 0087 D loss: -0.8553 G loss: -1.614\n",
      "Epoch: 0088 D loss: -0.7681 G loss: -1.758\n",
      "Epoch: 0089 D loss: -0.9502 G loss: -1.509\n",
      "Epoch: 0090 D loss: -0.8646 G loss: -1.791\n",
      "Epoch: 0091 D loss: -0.7916 G loss: -1.876\n",
      "Epoch: 0092 D loss: -0.8731 G loss: -1.525\n",
      "Epoch: 0093 D loss: -0.9535 G loss: -1.849\n",
      "Epoch: 0094 D loss: -0.7996 G loss: -1.707\n",
      "Epoch: 0095 D loss: -0.8568 G loss: -1.788\n",
      "Epoch: 0096 D loss: -0.7828 G loss: -1.63\n",
      "Epoch: 0097 D loss: -0.9053 G loss: -1.689\n",
      "Epoch: 0098 D loss: -0.898 G loss: -1.669\n",
      "Epoch: 0099 D loss: -0.8325 G loss: -1.711\n"
     ]
    }
   ],
   "source": [
    "# 학습시키는 코드\n",
    "sess = tf.Session()\n",
    "sess.run(tf.global_variables_initializer())\n",
    "\n",
    "total_batch = int(mnist.train.num_examples / batch_size)\n",
    "loss_val_D, loss_val_G = 0, 0\n",
    "\n",
    "# 노이즈를 생성해주는 get_noise 함수를 통해 배치 크기만큼 노이즈를 만들고 이를 입력해준다.\n",
    "for epoch in range(total_epoch):\n",
    "    for i in range(total_batch):\n",
    "        batch_xs, batch_ys = mnist.train.next_batch(batch_size)\n",
    "        noise = get_noise(batch_size, n_noise)\n",
    "        \n",
    "        _, loss_val_D = sess.run([train_D, loss_D], feed_dict={X: batch_xs, Z: noise})\n",
    "        _, loss_val_G = sess.run([train_G, loss_G], feed_dict={Z: noise})\n",
    "        \n",
    "    print('Epoch:', '%04d' % epoch,\n",
    "         'D loss: {:.4}'.format(loss_val_D),\n",
    "         'G loss: {:.4}'.format(loss_val_G))\n",
    "    \n",
    "# GAN 모델 완성 !"
   ]
  },
  {
   "cell_type": "code",
   "execution_count": 27,
   "metadata": {},
   "outputs": [
    {
     "name": "stdout",
     "output_type": "stream",
     "text": [
      "최적화 완료!\n"
     ]
    }
   ],
   "source": [
    "####################################################\n",
    "# 학습 결과를 확인하는 코드 즉, 확인용 이미지 생성 #\n",
    "####################################################\n",
    "if epoch == 0 or (epoch + 1) % 10 == 0:\n",
    "    sample_size = 10\n",
    "    noise = get_noise(sample_size, n_noise)\n",
    "    samples = sess.run(G, feed_dict={Z: noise})\n",
    "    \n",
    "    fig, ax = plt.subplots(1, sample_size, figsize=(sample_size, 1))\n",
    "    \n",
    "    for i in range(sample_size):\n",
    "        ax[i].set_axis_off()\n",
    "        ax[i].imshow(np.reshape(samples[i], (28, 28)))\n",
    "        \n",
    "    plt.savefig('samples/{}.png'.format(str(epoch).zfill(3)), bbox_inches='tight')\n",
    "    plt.close(fig)\n",
    "    \n",
    "print('최적화 완료!')"
   ]
  },
  {
   "cell_type": "code",
   "execution_count": null,
   "metadata": {},
   "outputs": [],
   "source": []
  }
 ],
 "metadata": {
  "kernelspec": {
   "display_name": "Python 3",
   "language": "python",
   "name": "python3"
  },
  "language_info": {
   "codemirror_mode": {
    "name": "ipython",
    "version": 3
   },
   "file_extension": ".py",
   "mimetype": "text/x-python",
   "name": "python",
   "nbconvert_exporter": "python",
   "pygments_lexer": "ipython3",
   "version": "3.7.4"
  }
 },
 "nbformat": 4,
 "nbformat_minor": 2
}
