{
 "cells": [
  {
   "cell_type": "markdown",
   "metadata": {},
   "source": [
    "# 0이냐 1이냐 혹은 /긍정/부정을 판단하는 이진 분류에서는 \n",
    "# 정확도보다는 다른 성능 평가 지표가 더 중요시되는 경우가 많다.\n",
    "\n",
    "## 분류의 성능평가지표는 다음과 같다 (이진분류/멀티분류에 다 쓸 수 있는 지표이지만, 2진분류에서 더욱 중요하게 강조되는 지표이다)\n",
    "- 정확도(Accuracy)\n",
    "- 오차행렬(Confusion Matrix)\n",
    "- 정밀도(Precision)\n",
    "- 재현율(Recall)\n",
    "- F1 스코어\n",
    "- ROC AUC"
   ]
  },
  {
   "cell_type": "markdown",
   "metadata": {},
   "source": [
    "# 1. 정확도(Accuracy)\n",
    "# 정확도는 실제 데이터에서 예측 데이터가 얼마나 같은지를 판단하는 지표\n",
    " 정확도(Accuracy) = 예측 결과가 동일한 데이터 건수 / 전체 예측 데이터 건수\n",
    " \n",
    " ## 하지만, 정확도 지표는 ML 모델의 성능을 왜곡할 수 있다.\n",
    " ### 아래의 BaseEstimator와 MyDummyClassifier 클래스 예제로 확인가능"
   ]
  },
  {
   "cell_type": "code",
   "execution_count": 1,
   "metadata": {},
   "outputs": [],
   "source": [
    "# fit() 메서드 역할 X, 에측 수행하는 predict()메서드는 단순히 Sex 피처가1 이면 0, 그렇지 않으면 1로 예측하는 매우 단순한 Classifier이다.\n",
    "\n",
    "from sklearn.base import BaseEstimator\n",
    "\n",
    "class MyDummyClassifier(BaseEstimator):\n",
    "    # fit() 메서드는 아무것도 학습하지 않음.\n",
    "    def fit(self, X, y=None):\n",
    "        pass\n",
    "    # predict() 메서드는 단순히 Sex 피처가 1이면 0, 그렇지 않으면 1로 예측함.\n",
    "    def predict(self, X):\n",
    "        pred = np.zeros((X.shape[0], 1))\n",
    "        for i in range (X.shape[0]) :\n",
    "            if X['Sex'].iloc[i] == 1:\n",
    "                pred[i] = 0\n",
    "            else :\n",
    "                pred[i] = 1\n",
    "                \n",
    "        return pred"
   ]
  },
  {
   "cell_type": "code",
   "execution_count": 2,
   "metadata": {},
   "outputs": [],
   "source": [
    "# 위에서 생성된 MyDummyClassifier를 사용해 타이타닉 데이터를 학습/예측/평가 해본다"
   ]
  },
  {
   "cell_type": "markdown",
   "metadata": {},
   "source": [
    "# 지금까지 피처를 가공한 내역을 정리하고, 이를 함수로 만들어 쉽게 재사용 제작\n",
    "## 데이터 전처리 전체 호출 함수 : transform_features()   : Null처리, 포매팅, 인코딩 수행"
   ]
  },
  {
   "cell_type": "code",
   "execution_count": 3,
   "metadata": {},
   "outputs": [],
   "source": [
    "#########################################################################################################\n",
    "from sklearn import preprocessing\n",
    "\n",
    "# Null 처리 함수\n",
    "def fillna(df):\n",
    "    df['Age'].fillna(df['Age'].mean(), inplace=True)\n",
    "    df['Cabin'].fillna('N', inplace=True)\n",
    "    df['Embarked'].fillna('N', inplace=True)\n",
    "    df['Fare'].fillna(0, inplace=True)\n",
    "    return df\n",
    "\n",
    "\n",
    "# 머신러닝 알고리즘에 불필요한 속성 제거\n",
    "def drop_features(df):\n",
    "    df.drop(['PassengerId', 'Name', 'Ticket'], axis=1, inplace=True)\n",
    "    return df\n",
    "\n",
    "\n",
    "# Label인코딩 수행\n",
    "def format_features(df):\n",
    "    df['Cabin'] = df['Cabin'].str[:1]\n",
    "    features = ['Cabin', 'Sex', 'Embarked']\n",
    "    for feature in features:\n",
    "        le = preprocessing.LabelEncoder()  # 오탈자. le = LabelEncoder() 라고만 되어 있었음.\n",
    "        le = le.fit(df[feature])\n",
    "        df[feature] = le.transform(df[feature])\n",
    "    return df\n",
    "\n",
    "\n",
    "# 앞에서 설정한 데이터전처리 함수 호출\n",
    "def transform_features(df):\n",
    "    df = fillna(df)\n",
    "    df = drop_features(df)\n",
    "    df = format_features(df)\n",
    "    return df\n",
    "\n",
    "#########################################################################################################"
   ]
  },
  {
   "cell_type": "code",
   "execution_count": 6,
   "metadata": {},
   "outputs": [
    {
     "name": "stdout",
     "output_type": "stream",
     "text": [
      "Dummy Classifier의 정확도는: 0.7877\n"
     ]
    }
   ],
   "source": [
    "import pandas as pd\n",
    "import numpy as np\n",
    "from sklearn.model_selection import train_test_split\n",
    "from sklearn.metrics import accuracy_score\n",
    "\n",
    "# 원본 데이터를 재로딩, 데이터 가공, 학습 데이터/테스트 데이터 분할.\n",
    "titanic_df = pd.read_csv('./titanic_train.csv')\n",
    "y_titanic_df = titanic_df['Survived']\n",
    "X_titanic_df = titanic_df.drop('Survived', axis=1)\n",
    "X_titanic_df = transform_features(X_titanic_df)   # 이전 학습했던 전처리 부분 재 사용\n",
    "X_train, X_test, y_train, y_test = train_test_split(X_titanic_df, y_titanic_df, test_size=0.2, random_state=0)\n",
    "\n",
    "# 위에서 생성한 Dummy Classifier를 이용해 학습/예측/평가 수행.\n",
    "myclf = MyDummyClassifier()\n",
    "myclf.fit(X_train, y_train)\n",
    "\n",
    "mypredictions = myclf.predict(X_test)\n",
    "print('Dummy Classifier의 정확도는: {0:.4f}'.format(accuracy_score(y_test, mypredictions)))\n",
    "                                                              \n",
    "# 단순히 Sex 피처가1 이면 0, 그렇지 않으면 1로 예측하는 매우 단순한 Classifier이다.\n",
    "# 남자는 다 죽고, 여자는 살리는 걸로만 예측해서 80% 생존이라는 결과치를 뽑아내는 엉망인 케이스를 보여주는 예제."
   ]
  },
  {
   "cell_type": "markdown",
   "metadata": {},
   "source": [
    "# 위와 같이, 정확도는 특히 불균형한(imbalanced) 레이블 값 분포에서 ML 모델의 성능을 판단할 경우, 적합한 평가 지표가 아니다. \n",
    "# 예를 들어, 100개의 데이터가 있고 이 중에 90개의 데이터 레이블이 0,\n",
    "# 10개의 데이터 레이블이 1이라고 한다면 무조건 0으로 예측 결과를 반환하는 ML 모델의 경우라도 정확도가 90%가 된다."
   ]
  },
  {
   "cell_type": "markdown",
   "metadata": {},
   "source": [
    "### 아래는 MNIST 데이터 셋을 이용한 테스트다. Multi Classification에서 Binary Classification으로 변경한다.\n",
    "## 7만 True고 나머지 숫자는 False로 둬서 정확도 예측 테스트 시작.\n",
    "\n",
    "#### 아무것도 하지 않고 무조건 특정한 결과로 찍어도 데이터 분포도가 균일하지 않은 경우 높은 수치가 나타날 수 있는 것이 정확도 평가 지표(Accuracy)의 맹점이다."
   ]
  },
  {
   "cell_type": "code",
   "execution_count": 7,
   "metadata": {},
   "outputs": [],
   "source": [
    "from sklearn.datasets import load_digits # MNIST 데이터 로딩 내장 데이터 셋\n",
    "from sklearn.model_selection import train_test_split\n",
    "from sklearn.base import BaseEstimator\n",
    "from sklearn.metrics import accuracy_score\n",
    "\n",
    "class MyFakeClassifier(BaseEstimator):\n",
    "    def fit(self, X, y):\n",
    "        pass\n",
    "    \n",
    "    \n",
    "    # 입력값으로 들어오는 X 데이터 세트의 크기만큼 모두 0값으로 만들어서 반환\n",
    "    def predict(self, X):\n",
    "        return np.zeros((len(X),1), dtype=bool)\n",
    "    \n",
    "    \n",
    "# 사이킷런의 내장 데이터 세트인 load_digits()를 이용해 MNIST 데이터 로딩\n",
    "digits = load_digits()\n",
    "\n",
    "\n",
    "# digits 번호가 7번 이면, Ture이고, 이를 astype(int)로 1로 변환(숫자형식), 나머지는 False이고 int형식 0으로 변환.\n",
    "y = (digits.target == 7).astype(int)  # 7을 int 형식으로 변환. 즉 1을 가짐\n",
    "X_train, X_test, y_train, y_test = train_test_split(digits.data, y, random_state=11)"
   ]
  },
  {
   "cell_type": "code",
   "execution_count": 8,
   "metadata": {},
   "outputs": [
    {
     "name": "stdout",
     "output_type": "stream",
     "text": [
      "레이블 테스트 세트 크기 : (450,)\n",
      "테스트 세트 레이블 0 과 1의 분포도\n",
      "0    405\n",
      "1     45\n",
      "dtype: int64\n",
      "모덴 예측을 0으로 하여도 정확도는:0.900\n"
     ]
    }
   ],
   "source": [
    "# 불균형한 레이블 데이터 분포도 확인.\n",
    "print('레이블 테스트 세트 크기 :', y_test.shape)\n",
    "print('테스트 세트 레이블 0 과 1의 분포도')\n",
    "print(pd.Series(y_test).value_counts())   # 잘 이해 안됨\n",
    "\n",
    "#테스트 세트 레이블 0 과 1의 분포도\n",
    "# 0    405\n",
    "# 1     45\n",
    "# dtype: int64\n",
    "\n",
    "# Dummy Classifier로 학습/예측/정확도 평가\n",
    "fakeclf = MyFakeClassifier()\n",
    "fakeclf.fit(X_train, y_train)\n",
    "fakepred = fakeclf.predict(X_test)   #    def predict(self, X):\n",
    "print('모덴 예측을 0으로 하여도 정확도는:{:.3f}'.format(accuracy_score(y_test, fakepred)))"
   ]
  },
  {
   "cell_type": "markdown",
   "metadata": {},
   "source": [
    "# 정확도(Accuracy)가 가지는 분류 평가 지표로서 이러한 한계점을 극복하기 위해 여러가지 분류 지표와 함께 적용해야 한다."
   ]
  },
  {
   "cell_type": "markdown",
   "metadata": {},
   "source": [
    "# 2.  오차 행렬(Confusion Matrix)\n",
    "## 이진 분류에서 성능 지표로 잘 활용됨. True  /  False,  Positive  /  Negative 4분면으로 구성"
   ]
  },
  {
   "cell_type": "markdown",
   "metadata": {},
   "source": [
    "# matrix를 2x2 로 나누어서 각각   TN / FP / FN / TP  로 표시\n",
    "여기서 P 와 N 의 의미는 예측을  Positive(1) 로 했는지, Negative(0) 로 했는지를 의미하고, \n",
    "앞쪽의 T 와 F 는 실제값으로, 실제 클래스와 예측 클래스가 맞았는지(True), 틀렸는지(False)를 의미합니다.\n",
    "#            Negative(0으로 예측)       Positive(1로 예측)\n",
    "# Negative(실제)       TN(True는 둘 다 동일)                      FP\n",
    "# Positive(실제)       FN                      TP(True는 둘 다 동일)"
   ]
  },
  {
   "cell_type": "markdown",
   "metadata": {},
   "source": [
    "### 정확도 예제에서 다룬 MyFakeClassifier의 예측 성능 지표를 오차 행렬로 표현\n",
    "#### 예측결과 : fakepred와 실제결과 : y_test를 사용"
   ]
  },
  {
   "cell_type": "code",
   "execution_count": 9,
   "metadata": {},
   "outputs": [
    {
     "data": {
      "text/plain": [
       "array([[405,   0],\n",
       "       [ 45,   0]], dtype=int64)"
      ]
     },
     "execution_count": 9,
     "metadata": {},
     "output_type": "execute_result"
    }
   ],
   "source": [
    "from sklearn.metrics import confusion_matrix\n",
    "\n",
    "confusion_matrix(y_test, fakepred) # 예측결과 : fakepred와 실제결과 : y_test를 사용\n",
    "\n",
    "# TN 405, FN  45. 나머지 FP TP는 0 결과값 \n",
    "\n",
    "# TN 은 array[0,0]. FP [0.1] , FN [1,0], TP [1,1] 표현가능"
   ]
  },
  {
   "cell_type": "code",
   "execution_count": 10,
   "metadata": {},
   "outputs": [],
   "source": [
    "## 앞 클래스는 무조건 Negative로 예측하면 Classifier였고, 테스트 데이터 세트의 클래스 값 분포는 0이 405건, 1이 45건이다.\n",
    "\n",
    "# 풀어보면, TN : 예측 : Negative(7이 아닌 Digit) / 실제 : Negative(7이 아닌 Digit) 총 405개\n",
    "#           FN : 예측 : Negative(7이 아닌 Digit) / 실제 : Positive(7만) 45개\n",
    "#           FP : 예측 : Positive(7만)   /   실제 : egative(7이 아닌 Digit) 0개\n",
    "#           TP : 예측 : Positive(7만)   /   실제 : Positive(7만) 0개"
   ]
  },
  {
   "cell_type": "markdown",
   "metadata": {},
   "source": [
    "#### 즉, 정확도는 다믕과 같이 재정의될 수 있다.\n",
    "# 정확도 : 예측 결과와 실제 값이 동일한 건수 / 전체 데이터 수 = (TN + TP) / (TN + FP + FN + TP)"
   ]
  },
  {
   "cell_type": "markdown",
   "metadata": {},
   "source": [
    "### - 이렇게 보다시피, 불균형한 이진 분류 데이터 세트에서는 Positive 데이터 건수가 매우 작기 때문에 데이터에 기반한 ML 알고리즘은 Positive 보다는 Negative로 예측 정확도가 높아지는 경향이 발생함.\n",
    "### - 사기 행위 예측이나 암 검진 예측 모델에서는 양성 경우 1, 음성 경우 0을 할당하는 경우가 매우 많음\n",
    "### - 대표적인 불균형 이진분류 데이터이다. 9,900건이 Negative, 100건이 Positive인 경우......\n",
    "### - 이런경우, Negative로 에측하는 경우가 더 강해져서 TN은 매우 커지고, TP는 매우 작아지게 된다.\n",
    "### - 결과적으로 정확도 지표는 비대칭 데이터에서는 Positive에 대한 예측 정확도를 판단하지 못한 채, Negative에 대한 예측 정확도 만으로 분류의 정확도가 매우 높게 나타나는 '수치적인 판단 오류' 를 일으키게 된다."
   ]
  },
  {
   "cell_type": "markdown",
   "metadata": {},
   "source": [
    "# 3. 정밀도와 재현율\n",
    "\n",
    "## Positive 데이터 세트의 예측 성능에 좀 더 초점을 맞춘 평가 지표.\n",
    "\n",
    "### - 정밀도 = TP / (FP + TP) (양성 예측도 라고도 불림). '예측'을 Positive로 한 대상 중에 예측과 실제값이 일치한 데이터 비율.  FP을 낮추는 데 초첨. TP를 올리는 데 초첨. 1으로 예측하는 게 더 많아질수록(0.5 초과 임계값등..) 정밀도 상승\n",
    "    -> FP + TP는 예측을 Positive로 한 모든 건수\n",
    "    -> 정밀도가 중요한 지표는 실제 Positive 양성을 Negative로 잘못 판단하게 될 경우.\n",
    "     -> 스팸 메일 분류 모델.\n",
    "     \n",
    "### - 재현율 = TP / (FN + TP) (민감도 또는 True Positive Rate 라고도 불림) 실제 Positive(1)이 정확히 예측되야 하는 수준.  FN을 낮추는 데 초첨.  TP를 올리는 데 초첨. 양성예측이 많을 수록 재현율은 상승\n",
    "\n",
    "#### -- 특이성(Specificity, TN Rate) : 민감도에 대응하는 지표로, 실제 Negative(0)이 정확히 예측되야 하는 수준. (건강한 사람은 질병이 없다로 음성 판정)\n",
    "    -> ### FPR = FP / (FP + TN) = 1- TNR = 1 - 특이성\n",
    "    -> FN + TP는 실제값이 Positive로 한 모든 건수\n",
    "    -> 정밀도가 중요한 지표는 실제 Positive 양성을 Negative로 잘못 판단하게 될 경우.\n",
    "     -> 암 판단 모델, 금융사기적발 모델 등."
   ]
  },
  {
   "cell_type": "markdown",
   "metadata": {},
   "source": [
    "##### 정밀도 : precision_score()   /   재현율 : recall_score() 사용"
   ]
  },
  {
   "cell_type": "code",
   "execution_count": 11,
   "metadata": {},
   "outputs": [],
   "source": [
    "# 오차행렬, 정확도, 정밀도, 재현율을 한 번에 불러오기 위해 get_clf_eval 함수 제작\n",
    "\n",
    "from sklearn.metrics import accuracy_score, precision_score, recall_score, confusion_matrix\n",
    "\n",
    "def get_clf_eval(y_test, pred):\n",
    "    confusion = confusion_matrix(y_test, pred)   # 오차행렬\n",
    "    accuracy = accuracy_score(y_test,pred)  # 정확도\n",
    "    precision = precision_score(y_test,pred) # 정밀도\n",
    "    recall = recall_score(y_test,pred) # 재현율\n",
    "    print('오차 행렬')\n",
    "    print(confusion)\n",
    "    print('정확도: {0:.4f}, 정밀도: {1:.4f}, 재현율: {2:.4f}'.format(accuracy, precision, recall))"
   ]
  },
  {
   "cell_type": "code",
   "execution_count": 12,
   "metadata": {},
   "outputs": [
    {
     "name": "stdout",
     "output_type": "stream",
     "text": [
      "오차 행렬\n",
      "[[108  10]\n",
      " [ 14  47]]\n",
      "정확도: 0.8659, 정밀도: 0.8246, 재현율: 0.7705\n"
     ]
    },
    {
     "name": "stderr",
     "output_type": "stream",
     "text": [
      "C:\\Users\\fu\\Anaconda3\\lib\\site-packages\\sklearn\\linear_model\\logistic.py:432: FutureWarning: Default solver will be changed to 'lbfgs' in 0.22. Specify a solver to silence this warning.\n",
      "  FutureWarning)\n"
     ]
    }
   ],
   "source": [
    "# 로지스틱 회귀로 타이타닉 생존자 예측 및 평가 수행\n",
    "from sklearn.linear_model import LogisticRegression\n",
    "\n",
    "\n",
    "# 원본 데이터를 재로딩, 데이터 가공, 학습 데이터/테스트 데이터 분할.\n",
    "titanic_df = pd.read_csv('./titanic_train.csv')\n",
    "y_titanic_df = titanic_df['Survived']\n",
    "X_titanic_df = titanic_df.drop('Survived', axis=1)\n",
    "X_titanic_df = transform_features(X_titanic_df)\n",
    "\n",
    "\n",
    "X_train, X_test, y_train, y_test = train_test_split(X_titanic_df, y_titanic_df, test_size=0.20, random_state=11)\n",
    "\n",
    "\n",
    "lr_clf = LogisticRegression()\n",
    "\n",
    "lr_clf.fit(X_train, y_train)\n",
    "pred = lr_clf.predict(X_test)\n",
    "get_clf_eval(y_test, pred)"
   ]
  },
  {
   "cell_type": "markdown",
   "metadata": {},
   "source": [
    "# 재현율 또는 정밀도를 좀 더 강화할 방법은?"
   ]
  },
  {
   "cell_type": "markdown",
   "metadata": {},
   "source": [
    "## 1. 정밀도/재현율의 Trade-off\n",
    " -> 상호 보완적인 평가지표 이므로 어느 한쪽을 강제로 높이면 다른 하나의 수치는 떨어지는걸 이용.\n",
    "   -> 이 과정에서 임곗값을 조정 (기본은 0.5)\n",
    "\n",
    "#### 이 과정에서. 개별 데이터별로 예측 확률을 반환하는 메서드인 predict_proba()로 예측 확률 확인과, Binarizer로 임곗값 조정\n",
    " -> ndarray m(입력값의 레코드 수 ) x n(클래스 값 유형. 이진분류시 2) 반환.\n",
    "    -> 첫 번째 칼럼은 0 Negative 확률, 두 번째 칼럼은 1 Positive 확률"
   ]
  },
  {
   "cell_type": "code",
   "execution_count": 13,
   "metadata": {},
   "outputs": [
    {
     "name": "stdout",
     "output_type": "stream",
     "text": [
      "pred_proba()결과 Shape : (179, 2)\n",
      "pred_proba array에서 앞 3개만 샘플로 추출 \n",
      ": [[0.4493523  0.5506477 ]\n",
      " [0.86335514 0.13664486]\n",
      " [0.86429647 0.13570353]]\n",
      "두 개의 class 중에서 더 큰 확률을 클래스 값으로 예측 \n",
      " [[0.4493523  0.5506477  1.        ]\n",
      " [0.86335514 0.13664486 0.        ]\n",
      " [0.86429647 0.13570353 0.        ]]\n"
     ]
    }
   ],
   "source": [
    "pred_proba = lr_clf.predict_proba(X_test)\n",
    "pred = lr_clf.predict(X_test)\n",
    "print('pred_proba()결과 Shape : {0}'.format(pred_proba.shape))\n",
    "print('pred_proba array에서 앞 3개만 샘플로 추출 \\n:', pred_proba[:3])\n",
    "\n",
    "# 예측 확률 array와 예측 결괏값 array를 병합(concatenate)해 예측 확률과 결괏값을 한눈에 확인\n",
    "pred_proba_result = np.concatenate([pred_proba, pred.reshape(-1, 1)], axis=1)\n",
    "print('두 개의 class 중에서 더 큰 확률을 클래스 값으로 예측 \\n', pred_proba_result[:3])"
   ]
  },
  {
   "cell_type": "code",
   "execution_count": 14,
   "metadata": {},
   "outputs": [
    {
     "name": "stdout",
     "output_type": "stream",
     "text": [
      "[[0. 0. 1.]\n",
      " [1. 0. 0.]\n",
      " [0. 0. 1.]]\n"
     ]
    }
   ],
   "source": [
    " # 정밀도 / 재현율 트레이드 오프 방식을 이용하고 임곗값 조정을 활용하기 위해 Binarizer 사용\n",
    " # 아래는 Binarizer 사용법 익히기 위한 테스트\n",
    "    \n",
    "from sklearn.preprocessing import Binarizer\n",
    "\n",
    "X = [[1, -1, 2],\n",
    "     [2, 0, 0],\n",
    "     [0, 1.1, 1.2]]\n",
    "\n",
    "# X 의 개별 원소들이 임곗값보다 같거나 작으면 0, 크면 1 반환\n",
    "binarizer = Binarizer(threshold=1.1)\n",
    "print(binarizer.fit_transform(X))"
   ]
  },
  {
   "cell_type": "code",
   "execution_count": 15,
   "metadata": {},
   "outputs": [
    {
     "name": "stdout",
     "output_type": "stream",
     "text": [
      "오차 행렬\n",
      "[[108  10]\n",
      " [ 14  47]]\n",
      "정확도: 0.8659, 정밀도: 0.8246, 재현율: 0.7705\n"
     ]
    }
   ],
   "source": [
    "# predict()가 predict_proba()(예측확률) 에 기반해서 미리 지정된 (기본은 0.5) 임곗값보다 크면 1, 작으면 0을 반환하는(그쪽으로 치우친다는걸) 보여주는 아래 코드\n",
    "\n",
    "from sklearn.preprocessing import Binarizer\n",
    "# Binarizer의 threshold 설정값. 분류 결정 임곗값임.\n",
    "custom_threshold = 0.5\n",
    "\n",
    "# predict_proba() 반환값의 두 번째 칼럼, 즉 Positive 클래스 칼럼 하나만 추출해 Binarizer를 적용\n",
    "pred_proba_1 = pred_proba[:, 1].reshape(-1, 1)\n",
    "\n",
    "\n",
    "binarizer = Binarizer(threshold = custom_threshold).fit(pred_proba_1)\n",
    "custom_predict = binarizer.transform(pred_proba_1)\n",
    "\n",
    "get_clf_eval(y_test, custom_predict)\n",
    "\n",
    "# 결괏값은 위의 로지스틱 회귀로 계산된 지표값과 정확히 일치함을 확인"
   ]
  },
  {
   "cell_type": "code",
   "execution_count": 16,
   "metadata": {},
   "outputs": [
    {
     "name": "stdout",
     "output_type": "stream",
     "text": [
      "오차 행렬\n",
      "[[97 21]\n",
      " [11 50]]\n",
      "정확도: 0.8212, 정밀도: 0.7042, 재현율: 0.8197\n"
     ]
    }
   ],
   "source": [
    "# 임곗값을 0.4로 낮춰보기\n",
    "\n",
    "# Binarizer의 threshold 설정값을 0.4로 설정. 즉, 분류 결정 임곗값을 0.5 -> 0.4로 낮춤\n",
    "custom_threshold = 0.4   # 0.4로 낮춤\n",
    "pred_proba_1 = pred_proba[:, 1].reshape(-1, 1)   # Positive 클래스 칼럼 하나만 추출해 Binarizer를 적용\n",
    "binarizer = Binarizer(threshold = custom_threshold).fit(pred_proba_1)\n",
    "custom_predict = binarizer.transform(pred_proba_1)\n",
    "\n",
    "get_clf_eval(y_test, custom_predict)"
   ]
  },
  {
   "cell_type": "markdown",
   "metadata": {},
   "source": [
    "## 임곗값을 낮추니 재현율 값이 올라가고 정밀도가 떨어진 이유는, 확률이 0.5가 아닌 0.ㅣ4부터 Positive로 예측을 너그럽게 하므로 임겟값을 낮출수록 Ture 값이 만아지게 된다."
   ]
  },
  {
   "cell_type": "markdown",
   "metadata": {},
   "source": [
    "# 임곗값을 0.4부터 0.6까지 0.05씩 증가시키며 평가 지표 조사"
   ]
  },
  {
   "cell_type": "code",
   "execution_count": 18,
   "metadata": {},
   "outputs": [
    {
     "name": "stdout",
     "output_type": "stream",
     "text": [
      "임곗값: 0.4\n",
      "오차 행렬\n",
      "[[97 21]\n",
      " [11 50]]\n",
      "정확도: 0.8212, 정밀도: 0.7042, 재현율: 0.8197\n",
      "임곗값: 0.45\n",
      "오차 행렬\n",
      "[[105  13]\n",
      " [ 13  48]]\n",
      "정확도: 0.8547, 정밀도: 0.7869, 재현율: 0.7869\n",
      "임곗값: 0.5\n",
      "오차 행렬\n",
      "[[108  10]\n",
      " [ 14  47]]\n",
      "정확도: 0.8659, 정밀도: 0.8246, 재현율: 0.7705\n",
      "임곗값: 0.55\n",
      "오차 행렬\n",
      "[[111   7]\n",
      " [ 16  45]]\n",
      "정확도: 0.8715, 정밀도: 0.8654, 재현율: 0.7377\n",
      "임곗값: 0.6\n",
      "오차 행렬\n",
      "[[113   5]\n",
      " [ 17  44]]\n",
      "정확도: 0.8771, 정밀도: 0.8980, 재현율: 0.7213\n"
     ]
    }
   ],
   "source": [
    "# 테스트를 수행할 모든 임곗값을 리스트 객체로 저장.\n",
    "thresholds = [0.4, 0.45, 0.50, 0.55, 0.60]\n",
    "\n",
    "def get_eval_by_threshold(y_test, pred_proba_c1, thresholds):   # pred_proba_c1 새로이 추가\n",
    "    # thresholds list객체 내의 값을 차례로 iteration(반복)하면서 Evauation 수행.\n",
    "    for custom_threshold in thresholds:\n",
    "        binarizer = Binarizer(threshold=custom_threshold).fit(pred_proba_c1)  # fit으로 x_test 값에 해당하는 pred_proba_c1 사용\n",
    "        custom_predict = binarizer.transform(pred_proba_c1)\n",
    "        print('임곗값:', custom_threshold)\n",
    "        get_clf_eval(y_test, custom_predict)\n",
    "        \n",
    "get_eval_by_threshold(y_test, pred_proba[:, 1].reshape(-1, 1), thresholds)   # 값 반환."
   ]
  },
  {
   "cell_type": "markdown",
   "metadata": {},
   "source": [
    "# 사이킷런의 precision_recall_curve() API 활용해 위와 같은 것 구현하기\n",
    " -> y_true : 실제 클래스값 배열 파라미터 (배열크기 = [데이터 건수])\n",
    "    probas_pred: Positive 칼럼 예측 확률 배열 파라미터\n",
    "\n",
    "## 0.11~0.95 정도의 임곗값을 담은 넘파이 ndarray와 이 임곗값에 해당하는 정밀도 및 재현율 값을 담은 넘파이 ndarray를 반환\n",
    "\n",
    "## 또한, 정밀도와 재현율의 임곗값에 따른 값 변화를 곡선 형태의 그래프로 시각화하는 데 이용할 수 있다."
   ]
  },
  {
   "cell_type": "code",
   "execution_count": 29,
   "metadata": {},
   "outputs": [
    {
     "name": "stdout",
     "output_type": "stream",
     "text": [
      "반환된 분류 결정 임곗값 배열의 Shape: (147,)\n",
      "샘플 추출을 위한 임계값 배열의 index 10개: [  0  15  30  45  60  75  90 105 120 135]\n",
      "샘플용 10개의 임곗값:  [0.12 0.13 0.15 0.17 0.26 0.38 0.49 0.63 0.76 0.9 ]\n",
      "샘플 임계값별 정밀도:  [0.379 0.424 0.455 0.519 0.618 0.676 0.797 0.93  0.964 1.   ]\n",
      "샘플 임계값별 재현율:  [1.    0.967 0.902 0.902 0.902 0.82  0.77  0.656 0.443 0.213]\n"
     ]
    }
   ],
   "source": [
    "from sklearn.metrics import precision_recall_curve\n",
    "\n",
    "# 레이블 값이 1일 때의 예측 확률을 추출\n",
    "pred_proba_class1 = lr_clf.predict_proba(X_test)[:, 1]\n",
    "\n",
    "# 실제값 데이터 세트와 레이블 값이 1일 때의 예측 확률을 precision_recall_curve 인자로 입력 (TP)\n",
    "precisions, recalls, thresholds = precision_recall_curve(y_test, pred_proba_class1)\n",
    "print('반환된 분류 결정 임곗값 배열의 Shape:', thresholds.shape)\n",
    "\n",
    "\n",
    "# 반환된 임계값 배열 ROW가 147건 이므로 샘플로 10건만 추출하되, 임곗값을 15 Step으로 추출.\n",
    "thr_index = np.arange(0, thresholds.shape[0], 15)  # 15 지정 안하면 TP 값이 147개 이므로, 147개가 모두 출력됨.\n",
    "print('샘플 추출을 위한 임계값 배열의 index 10개:', thr_index)\n",
    "print('샘플용 10개의 임곗값: ', np.round(thresholds[thr_index], 2))  # 소숫점 2자리 까지 나타냄\n",
    "\n",
    "\n",
    "# 15 step 단위로 추출된 임계값에 따른 정밀도와 재현율 구현\n",
    "print('샘플 임계값별 정밀도: ', np.round(precisions[thr_index], 3))\n",
    "print('샘플 임계값별 재현율: ', np.round(recalls[thr_index],3 ))   # 임곗값 0.49 일때 결과가 가장 좋음."
   ]
  },
  {
   "cell_type": "code",
   "execution_count": 43,
   "metadata": {},
   "outputs": [
    {
     "data": {
      "image/png": "[encoded data removed]",
      "text/plain": [
       "<Figure size 576x432 with 1 Axes>"
      ]
     },
     "metadata": {
      "needs_background": "light"
     },
     "output_type": "display_data"
    }
   ],
   "source": [
    "# 정밀도와 재현율 시각화\n",
    "\n",
    "import matplotlib.pyplot as plt\n",
    "import matplotlib.ticker as ticker\n",
    "%matplotlib inline\n",
    "\n",
    "def precision_recall_curve_plot(y_test, pred_proba_c1):\n",
    "    # threshold ndarray와 이 threshold에 따른 정밀도, 재현율 ndarray 추출.\n",
    "    precisions, recalls, thresholds = precision_recall_curve( y_test, pred_proba_c1 )\n",
    "    \n",
    "    # X축을 threshold 값으로, Y축은 정밀도, 재현율 값으로 각각 Plot 수행.\n",
    "    plt.figure(figsize=(8, 6))\n",
    "    threshold_boundary = thresholds.shape[0]\n",
    "    plt.plot(thresholds, precisions[0:threshold_boundary], linestyle='--', label='precision') # 정밀도는 점선으로 표시\n",
    "    plt.plot(thresholds, recalls[0:threshold_boundary], label='recall')\n",
    "    \n",
    "    \n",
    "    # threshold 값 X 축의 Scale을 0.1 단위로 변경\n",
    "    start, end = plt.xlim()\n",
    "    plt.xticks(np.round(np.arange(start, end, 0.1), 2))\n",
    "    \n",
    "    \n",
    "    # x축, y축 label과 legend, 그리고 grid 설정\n",
    "    plt.xlabel('Threshold value'); plt.ylabel('Precision and Recall value')\n",
    "    plt.legend(); plt.grid()\n",
    "    plt.show()\n",
    "    \n",
    "precision_recall_curve_plot( y_test, lr_clf.predict_proba(X_test)[:,1])  # [:,1] 는 index 범위 지정"
   ]
  },
  {
   "cell_type": "markdown",
   "metadata": {},
   "source": [
    "# 위의 결과에선 약 0.45 임곗값 지점에서 재현율과 정밀도가 비슷해 지는 모습\n",
    "## 위처럼 Positive 예측의 임곗값 변경에 따라 각 수치가 변경된다. 둘을 상호 보완할 수 있는 수준에서 적용해야 한다\n",
    "\n",
    "### 정밀도 또는 재현율 중 하나만 스코어가 좋고 다른 하나는 스코어가 나쁜 분류는 성능이 좋지 않은 분류로 간주 가능. 그래서 아래의 평가 스코어를 추가로 써야 한다."
   ]
  },
  {
   "cell_type": "markdown",
   "metadata": {},
   "source": [
    "# 2. F1 스코어 \n",
    "## 정밀도와 재현율을 결합한 지표. 둘이 어느 한쪽으로 치우치지 않는 수치를 나타낼 대 상대적으로 높은 값을 가짐.\n",
    "### 공식 : F1 = 2 / 1 / recall + 1 / precision              =  2 * precision * recall / precision + recall\n",
    "\n",
    " -> 사이킷런은 f1_score() API 제공"
   ]
  },
  {
   "cell_type": "code",
   "execution_count": 45,
   "metadata": {},
   "outputs": [
    {
     "name": "stdout",
     "output_type": "stream",
     "text": [
      "F1 스코어: 0.7966\n"
     ]
    }
   ],
   "source": [
    "from sklearn.metrics import f1_score\n",
    "f1 = f1_score(y_test, pred) # f1 스코어 API\n",
    "print('F1 스코어: {0:.4f}'.format(f1))"
   ]
  },
  {
   "cell_type": "code",
   "execution_count": 58,
   "metadata": {},
   "outputs": [
    {
     "name": "stdout",
     "output_type": "stream",
     "text": [
      "임곗값: 0.4\n",
      "오차 행렬\n",
      "[[97 21]\n",
      " [11 50]]\n",
      "정확도: 0.8212, 정밀도: 0.7042, 재현율: 0.8197, F1: 0.7576\n",
      "임곗값: 0.45\n",
      "오차 행렬\n",
      "[[105  13]\n",
      " [ 13  48]]\n",
      "정확도: 0.8547, 정밀도: 0.7869, 재현율: 0.7869, F1: 0.7869\n",
      "임곗값: 0.5\n",
      "오차 행렬\n",
      "[[108  10]\n",
      " [ 14  47]]\n",
      "정확도: 0.8659, 정밀도: 0.8246, 재현율: 0.7705, F1: 0.7966\n",
      "임곗값: 0.55\n",
      "오차 행렬\n",
      "[[111   7]\n",
      " [ 16  45]]\n",
      "정확도: 0.8715, 정밀도: 0.8654, 재현율: 0.7377, F1: 0.7965\n",
      "임곗값: 0.6\n",
      "오차 행렬\n",
      "[[113   5]\n",
      " [ 17  44]]\n",
      "정확도: 0.8771, 정밀도: 0.8980, 재현율: 0.7213, F1: 0.8000\n"
     ]
    }
   ],
   "source": [
    "# 앞서 구현한 get_clf_eval() 함수에 F1 스코어를 구하는 로직을 추가해 임곗값 변화시키며 평가지표 구함.\n",
    "\n",
    "\n",
    "def get_clf_eval(y_test, pred):\n",
    "    confusion = confusion_matrix(y_test, pred)   # 오차행렬\n",
    "    accuracy = accuracy_score(y_test,pred)  # 정확도\n",
    "    precision = precision_score(y_test,pred) # 정밀도\n",
    "    recall = recall_score(y_test,pred) # 재현율\n",
    "    \n",
    "    \n",
    "    # F1 스코어 추가\n",
    "    f1 = f1_score(y_test, pred)\n",
    "    # F1 스코어 추가완료\n",
    "    print('오차 행렬')\n",
    "    print(confusion)\n",
    "    # F1 스코어 print\n",
    "    print('정확도: {0:.4f}, 정밀도: {1:.4f}, 재현율: {2:.4f}, F1: {3:.4f}'.format(accuracy, precision, recall, f1))\n",
    "    \n",
    "    \n",
    "thresholds = [0.4, 0.45, 0.5, 0.55, 0.60]\n",
    "pred_proba = lr_clf.predict_proba(X_test)  # 피쳐들의 예측값\n",
    "get_eval_by_threshold(y_test, pred_proba[:, 1].reshape(-1, 1), thresholds)"
   ]
  },
  {
   "cell_type": "markdown",
   "metadata": {},
   "source": [
    "# 임곗값: 0.45 일때 가 정밀도와 재현율이 균형을 이룬다. 하지만 0.60 일때 F1 스코어는 가장 높으니, 정밀도와 재현율을 따로 구하는게 가장 좋을 것이라 생각한다.\n",
    "    임곗값: 0.45\n",
    "    오차 행렬\n",
    "    [[105  13]\n",
    "     [ 13  48]]\n",
    "    정확도: 0.8547, 정밀도: 0.7869, 재현율: 0.7869, F1: 0.7869\n",
    "                \n",
    "     임곗값: 0.6\n",
    "    오차 행렬\n",
    "    [[113   5]\n",
    "     [ 17  44]]\n",
    "    정확도: 0.8771, 정밀도: 0.8980, 재현율: 0.7213, F1: 0.8000\n"
   ]
  },
  {
   "cell_type": "markdown",
   "metadata": {},
   "source": [
    "# 3. ROC 곡선과 AUC\n",
    "## 이것은 이진 분류의 예측 성능 측정에서 중요하게 사용되는 지표.\n",
    "## ROC 는 FP Rate(X축)가 변할때 TP Rate(재현율, Y축)는 어떻게 변하는지 나타내는 곡선\n",
    "### FPR = FP / (FP + TN) = 1- TNR = 1 - 특이성 은 가운데 직선의 기준. 즉 0.5가 기본 (임곗값 설정 기준)\n",
    "\n",
    "    -> 사이킷런은 roc_curve() API 제공\n",
    "        -> y_ture: 실제 클래스 값 array 파라미터 ( array shape = [데이터 건수])\n",
    "        -> y_score: predict_prob()의 반환 값 array에서 Positive 칼럼의 예측 확률이 보통 사용됨. array.shape = [n_smaples]"
   ]
  },
  {
   "cell_type": "code",
   "execution_count": 51,
   "metadata": {},
   "outputs": [
    {
     "name": "stdout",
     "output_type": "stream",
     "text": [
      "샘플 추출을 위한 임계값 배열의 index 10개: [ 0  5 10 15 20 25 30 35 40 45]\n",
      "샘플용 10개의 임곗값:  [1.94 0.87 0.63 0.55 0.44 0.32 0.15 0.14 0.13 0.12]\n",
      "샘플 임계값별 FPR:  [0.    0.008 0.025 0.059 0.127 0.203 0.559 0.602 0.695 0.847]\n",
      "샘플 임계값별 TPR:  [0.    0.246 0.672 0.738 0.787 0.885 0.902 0.951 0.967 0.984]\n"
     ]
    }
   ],
   "source": [
    "# 타이타닉 생존자 예측 모델의 FPR, TPR 임곗값을 구해보기\n",
    "\n",
    "from sklearn.metrics import roc_curve\n",
    "\n",
    "# 레이블 값이 1일 때의 예측 확률을 추출\n",
    "pred_proba_class1 = lr_clf.predict_proba(X_test)[:, 1]\n",
    "\n",
    "fprs, tprs, thresholds = roc_curve(y_test, pred_proba_class1)\n",
    "\n",
    "# 반환된 임계값 배열 ROW가 147건 이므로 샘플로 10건만 추출하되, 임곗값을 5 Step으로 추출.\n",
    "thr_index = np.arange(0, thresholds.shape[0], 5)  # 5 지정 안하면 TP 값이 147개 이므로, 147개가 모두 출력됨.\n",
    "print('샘플 추출을 위한 임계값 배열의 index 10개:', thr_index)\n",
    "print('샘플용 10개의 임곗값: ', np.round(thresholds[thr_index], 2))  # 소숫점 2자리 까지 나타냄\n",
    "\n",
    "\n",
    "# 5 step 단위로 추출된 임계값에 따른 FPR, TPR 값\n",
    "print('샘플 임계값별 FPR: ', np.round(fprs[thr_index], 3))\n",
    "print('샘플 임계값별 TPR: ', np.round(tprs[thr_index], 3))   "
   ]
  },
  {
   "cell_type": "code",
   "execution_count": 52,
   "metadata": {},
   "outputs": [
    {
     "data": {
      "image/png": "[encoded data removed]",
      "text/plain": [
       "<Figure size 432x288 with 1 Axes>"
      ]
     },
     "metadata": {
      "needs_background": "light"
     },
     "output_type": "display_data"
    }
   ],
   "source": [
    "# FPR, TPR 임곗값 시각화\n",
    "def roc_curve_plot(y_test, pred_proba_c1):\n",
    "    # 임곗값에 따른 FPR, TPR 값을 반환받음\n",
    "    fprs, tprs, thresholds = roc_curve(y_test, pred_proba_c1)\n",
    "    # ROC 곡선을 그래프 곡선으로 그림.\n",
    "    plt.plot(fprs, tprs, label='ROC')\n",
    "    # 가운데 대각선 직선을 그림.\n",
    "    plt.plot([0,1],[0,1], 'k--', label='Random')\n",
    "    \n",
    "    \n",
    "    # FPR X 축의 Scale을 0.1 단위로 변경, X, Y축 명 설정 등\n",
    "    start, end = plt.xlim()\n",
    "    plt.xticks(np.round(np.arange(start, end, 0.1), 2))\n",
    "    plt.xlim(0, 1); plt.ylim(0, 1)\n",
    "    plt.xlabel('FPR( 1 - Sensitivity )'); plt.ylabel('TPR( Recall )')\n",
    "    plt.legend()\n",
    "    \n",
    "roc_curve_plot(y_test, pred_proba[:, 1])"
   ]
  },
  {
   "cell_type": "markdown",
   "metadata": {},
   "source": [
    "## 일반적으로 ROC 곡선 자체는 FPR과 TPR의 변화 값을 보는데 이용한다.\n",
    "## - 분류의 성능 지표는 ROC 곡선 면적에 기반한 AUC(Area Under Curve) 값이다. \n",
    "    -> ROC 곡선 밑의 면적을 구한 것으로서 일반적으로 1에 가까울수록 좋은 수치이다.\n",
    "### - 1) 가운데 직선에서 멀어지고, 2) 왼쪽 상단 모서리쪽으로 가파르게 곡선이 이동해 3) 직사각형에 가까운 곡선이 되면 4) 면적 1에 가까워지는 좋은 ROC AUC 성능수치를 얻는다.    \n",
    "    -> 가운데 대각선 직선은 랜덤 수준의 이진 분류 AUC 값으로 0.5이다. (보통의 분류는 0.5 이상의 AUC 값을 가진다)\n",
    "    \n",
    "#### AUC 수치가 커지려면 FRP가 작은 상태에서 얼마나 큰 TPR을 얻을 수 있느냐 이다.\n",
    "    -> 사이킷런은 roc_auc_score() API 제공"
   ]
  },
  {
   "cell_type": "code",
   "execution_count": 56,
   "metadata": {},
   "outputs": [
    {
     "name": "stdout",
     "output_type": "stream",
     "text": [
      "ROC AUC 값: 0.8429\n"
     ]
    }
   ],
   "source": [
    "# 로지스틱 회귀 타이타닉 예측 모델의 ROC AUC 구하기\n",
    "\n",
    "from sklearn.metrics import roc_auc_score\n",
    "\n",
    "pred = lr_clf.predict(X_test)\n",
    "roc_score = roc_auc_score(y_test, pred)\n",
    "print('ROC AUC 값: {0:.4f}'.format(roc_score))"
   ]
  },
  {
   "cell_type": "code",
   "execution_count": 60,
   "metadata": {},
   "outputs": [
    {
     "name": "stdout",
     "output_type": "stream",
     "text": [
      "임곗값: 0.4\n",
      "오차 행렬\n",
      "[[97 21]\n",
      " [11 50]]\n",
      "정확도: 0.8212, 정밀도: 0.7042, 재현율: 0.8197, F1: 0.7576, ROC AUC: 0.8209\n",
      "임곗값: 0.45\n",
      "오차 행렬\n",
      "[[105  13]\n",
      " [ 13  48]]\n",
      "정확도: 0.8547, 정밀도: 0.7869, 재현율: 0.7869, F1: 0.7869, ROC AUC: 0.8384\n",
      "임곗값: 0.5\n",
      "오차 행렬\n",
      "[[108  10]\n",
      " [ 14  47]]\n",
      "정확도: 0.8659, 정밀도: 0.8246, 재현율: 0.7705, F1: 0.7966, ROC AUC: 0.8429\n",
      "임곗값: 0.55\n",
      "오차 행렬\n",
      "[[111   7]\n",
      " [ 16  45]]\n",
      "정확도: 0.8715, 정밀도: 0.8654, 재현율: 0.7377, F1: 0.7965, ROC AUC: 0.8392\n",
      "임곗값: 0.6\n",
      "오차 행렬\n",
      "[[113   5]\n",
      " [ 17  44]]\n",
      "정확도: 0.8771, 정밀도: 0.8980, 재현율: 0.7213, F1: 0.8000, ROC AUC: 0.8395\n"
     ]
    }
   ],
   "source": [
    "# 앞서 구현한 get_clf_eval() 함수에 ROC AUC 값을 구하는 로직을 추가해 임곗값 변화시키며 평가지표 구함.\n",
    "\n",
    "\n",
    "def get_clf_eval(y_test, pred):\n",
    "    confusion = confusion_matrix(y_test, pred)   # 오차행렬\n",
    "    accuracy = accuracy_score(y_test,pred)  # 정확도\n",
    "    precision = precision_score(y_test,pred) # 정밀도\n",
    "    recall = recall_score(y_test,pred) # 재현율\n",
    "    f1 = f1_score(y_test, pred)    # F1 스코어 추가\n",
    "    roc_score = roc_auc_score(y_test, pred)  # ROC AUC 값 추가\n",
    "    print('오차 행렬')\n",
    "    print(confusion)\n",
    "    # 모든 Score 출력\n",
    "    print('정확도: {0:.4f}, 정밀도: {1:.4f}, 재현율: {2:.4f}, F1: {3:.4f}, ROC AUC: {4:.4f}'.format(accuracy, precision, recall, f1, roc_score))\n",
    "    \n",
    "    \n",
    "thresholds = [0.4, 0.45, 0.5, 0.55, 0.60]\n",
    "pred_proba = lr_clf.predict_proba(X_test)  # 피쳐들의 예측값\n",
    "get_eval_by_threshold(y_test, pred_proba[:, 1].reshape(-1, 1), thresholds)"
   ]
  },
  {
   "cell_type": "markdown",
   "metadata": {},
   "source": [
    "# 임곗값: 0.45 일때 결과가 가장 좋은 것 같은데, 임곗값을 조정하는 것으로서 해결될까?\n",
    "    오차 행렬\n",
    "    [[97 21]\n",
    "     [11 50]]\n",
    "    정확도: 0.8212, 정밀도: 0.7042, 재현율: 0.8197, F1: 0.7576, ROC AUC: 0.8209\n",
    "\n",
    "    임곗값: 0.45\n",
    "    오차 행렬\n",
    "    [[105  13]\n",
    "     [ 13  48]]\n",
    "    정확도: 0.8547, 정밀도: 0.7869, 재현율: 0.7869, F1: 0.7869, ROC AUC: 0.8384\n",
    "\n",
    "    임곗값: 0.5\n",
    "    오차 행렬\n",
    "    [[108  10]\n",
    "     [ 14  47]]\n",
    "    정확도: 0.8659, 정밀도: 0.8246, 재현율: 0.7705, F1: 0.7966, ROC AUC: 0.8429\n",
    "\n",
    "    임곗값: 0.55\n",
    "    오차 행렬\n",
    "    [[111   7]\n",
    "     [ 16  45]]\n",
    "    정확도: 0.8715, 정밀도: 0.8654, 재현율: 0.7377, F1: 0.7965, ROC AUC: 0.8392\n",
    "\n",
    "    임곗값: 0.6\n",
    "    오차 행렬\n",
    "    [[113   5]\n",
    "     [ 17  44]]\n",
    "    정확도: 0.8771, 정밀도: 0.8980, 재현율: 0.7213, F1: 0.8000, ROC AUC: 0.8395"
   ]
  },
  {
   "cell_type": "code",
   "execution_count": null,
   "metadata": {},
   "outputs": [],
   "source": []
  }
 ],
 "metadata": {
  "kernelspec": {
   "display_name": "Python 3",
   "language": "python",
   "name": "python3"
  },
  "language_info": {
   "codemirror_mode": {
    "name": "ipython",
    "version": 3
   },
   "file_extension": ".py",
   "mimetype": "text/x-python",
   "name": "python",
   "nbconvert_exporter": "python",
   "pygments_lexer": "ipython3",
   "version": "3.7.3"
  }
 },
 "nbformat": 4,
 "nbformat_minor": 2
}
