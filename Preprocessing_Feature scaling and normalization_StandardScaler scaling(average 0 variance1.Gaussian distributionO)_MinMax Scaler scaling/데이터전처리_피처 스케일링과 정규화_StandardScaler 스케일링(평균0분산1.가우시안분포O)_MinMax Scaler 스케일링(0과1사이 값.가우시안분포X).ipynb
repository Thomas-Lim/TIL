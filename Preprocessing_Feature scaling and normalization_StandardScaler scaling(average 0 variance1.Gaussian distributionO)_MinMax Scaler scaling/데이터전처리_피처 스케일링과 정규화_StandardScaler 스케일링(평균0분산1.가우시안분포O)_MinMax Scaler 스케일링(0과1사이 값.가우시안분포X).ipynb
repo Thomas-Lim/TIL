{
 "cells": [
  {
   "cell_type": "markdown",
   "metadata": {},
   "source": [
    "# 피처 스케일링과 정규화\n",
    "## 피처 스케일링(feature scaling) : 서로 다른 변수의 값 범위를 일정한 수준으로 맞추는 작업\n",
    "   -> 표준화와 정규화가 있음"
   ]
  },
  {
   "cell_type": "code",
   "execution_count": 1,
   "metadata": {},
   "outputs": [],
   "source": [
    "# 표준화는 데이터의 피처 각각이 평균이 0이고 분산이 1인 가우시안 정규분포를 가진 값으로 변환하는 것을 의미. \n",
    "# 표준화를 통해 변환될 피처 x의 새로운 i번째 데이터는 xi_new라고 하면,\n",
    "## xi_new = xi-mean(x) / stdev(x)\n"
   ]
  },
  {
   "cell_type": "code",
   "execution_count": 2,
   "metadata": {},
   "outputs": [],
   "source": [
    "# 정규화는 서로 다른 피처의 크기를 통일하기 위해 크기를 변환. 모든 값을 최소 0 ~ 최대 1로 변환\n",
    "## xi_new = xi-min(x) / max(x) - min(x)"
   ]
  },
  {
   "cell_type": "code",
   "execution_count": 3,
   "metadata": {},
   "outputs": [],
   "source": [
    "# 사이킷런의 전처리 normalizer 모듈은 선형대수에서의 정규화 개념이며, 개별 벡터의 크기를 맞추기 위해 변환하는 것.\n",
    "# 개별 벡터를 모든 피처 벡터의 크기로 나눠줌\n",
    "## xi_new = xi / 전부루트 xi^2 + yi^2 + zi^2"
   ]
  },
  {
   "cell_type": "markdown",
   "metadata": {},
   "source": [
    "# Standard Scaler 스케일링\n",
    "## 개별 피처를 평균이 0이고, 분산이 1인 값으로 변환해 줌.\n",
    "### 서포트벡터머신, 선형회귀, 로지스틱 회귀가 데이터가 가우시안 분포를 가지고 있다고 가정하고 구현됐으므로, \n",
    "### 사전에 표준화를 적용하는 것은 예측 성능 향상에 중요한 요소가 된다."
   ]
  },
  {
   "cell_type": "code",
   "execution_count": 12,
   "metadata": {},
   "outputs": [
    {
     "name": "stdout",
     "output_type": "stream",
     "text": [
      "     sepal length (cm)  sepal width (cm)  petal length (cm)  petal width (cm)\n",
      "0                  5.1               3.5                1.4               0.2\n",
      "1                  4.9               3.0                1.4               0.2\n",
      "2                  4.7               3.2                1.3               0.2\n",
      "3                  4.6               3.1                1.5               0.2\n",
      "4                  5.0               3.6                1.4               0.2\n",
      "..                 ...               ...                ...               ...\n",
      "145                6.7               3.0                5.2               2.3\n",
      "146                6.3               2.5                5.0               1.9\n",
      "147                6.5               3.0                5.2               2.0\n",
      "148                6.2               3.4                5.4               2.3\n",
      "149                5.9               3.0                5.1               1.8\n",
      "\n",
      "[150 rows x 4 columns]\n",
      "feature 들의 평균 값\n",
      "sepal length (cm)    5.843333\n",
      "sepal width (cm)     3.057333\n",
      "petal length (cm)    3.758000\n",
      "petal width (cm)     1.199333\n",
      "dtype: float64\n",
      "\n",
      "feature 들의 분산 값\n",
      "sepal length (cm)    0.685694\n",
      "sepal width (cm)     0.189979\n",
      "petal length (cm)    3.116278\n",
      "petal width (cm)     0.581006\n",
      "dtype: float64\n",
      "     sepal length (cm)  sepal width (cm)  petal length (cm)  petal width (cm)\n",
      "0            -0.900681          1.019004          -1.340227         -1.315444\n",
      "1            -1.143017         -0.131979          -1.340227         -1.315444\n",
      "2            -1.385353          0.328414          -1.397064         -1.315444\n",
      "3            -1.506521          0.098217          -1.283389         -1.315444\n",
      "4            -1.021849          1.249201          -1.340227         -1.315444\n",
      "..                 ...               ...                ...               ...\n",
      "145           1.038005         -0.131979           0.819596          1.448832\n",
      "146           0.553333         -1.282963           0.705921          0.922303\n",
      "147           0.795669         -0.131979           0.819596          1.053935\n",
      "148           0.432165          0.788808           0.933271          1.448832\n",
      "149           0.068662         -0.131979           0.762758          0.790671\n",
      "\n",
      "[150 rows x 4 columns]\n",
      "\n",
      "feature 들의 평균 값\n",
      "sepal length (cm)   -1.690315e-15\n",
      "sepal width (cm)    -1.842970e-15\n",
      "petal length (cm)   -1.698641e-15\n",
      "petal width (cm)    -1.409243e-15\n",
      "dtype: float64\n",
      "\n",
      "feature 들의 분산 값\n",
      "sepal length (cm)    1.006711\n",
      "sepal width (cm)     1.006711\n",
      "petal length (cm)    1.006711\n",
      "petal width (cm)     1.006711\n",
      "dtype: float64\n"
     ]
    }
   ],
   "source": [
    "# Standard Scaler\n",
    "from sklearn.datasets import load_iris\n",
    "import pandas as pd\n",
    "\n",
    "# 붓꽃 데이터 세트를 로딩하고 DataFrame으로 변환\n",
    "iris = load_iris()\n",
    "iris_data = iris.data\n",
    "iris_df = pd.DataFrame(data=iris_data, columns=iris.feature_names)\n",
    "print(iris_df)\n",
    "\n",
    "# 평균, 분산을 구함\n",
    "print('feature 들의 평균 값')\n",
    "print(iris_df.mean())\n",
    "print('\\nfeature 들의 분산 값')\n",
    "print(iris_df.var())\n",
    "\n",
    "# Standard Scaler를 이용해 각 피처를 한 번에 표준화 해 변환\n",
    "from sklearn.preprocessing import StandardScaler\n",
    "\n",
    "# StandardScaler 객체 생성\n",
    "scaler = StandardScaler()\n",
    "\n",
    "# StandardScaler로 데이터 세트 변환. fit()와 transform() 호출. \n",
    " # 해당 메서드에 변환 대상 피처 데이터 세트를 입력하고 호출하며 간단하게 변환\n",
    "scaler.fit(iris_df) # 위에서 호출한 데이터프레임\n",
    "iris_scaled = scaler.transform(iris_df)\n",
    "\n",
    "# transform()시 스케일 변환된 데이터 세트가 NumPy ndarray로 반환돼 이를 DataFrame으로 변환\n",
    "iris_df_scaled = pd.DataFrame(data=iris_scaled, columns=iris.feature_names)\n",
    "print(iris_df_scaled)    # 값을 위의 계산식대로 계산함. xi_new = xi-mean(x) / stdev(x)\n",
    "print('\\nfeature 들의 평균 값')\n",
    "print(iris_df_scaled.mean())\n",
    "print('\\nfeature 들의 분산 값')\n",
    "print(iris_df_scaled.var())\n",
    "\n",
    "# 평균이 0에 가깝게 됐고, 분산이 1에 가까운 값으로 변환 완료."
   ]
  },
  {
   "cell_type": "markdown",
   "metadata": {},
   "source": [
    "# MinMax Scaler 스케일링\n",
    "## 데이터 값을 0과 1사의 범위 값으로 변환 \n",
    "## 음수 값이 있으면 -1에서 1값으로 변환\n",
    "### 데이터의 분포가 가우시안 분포가 아닐 경우에 Min, Max Scaler를 적용해 볼 수 있다."
   ]
  },
  {
   "cell_type": "code",
   "execution_count": 11,
   "metadata": {},
   "outputs": [
    {
     "name": "stdout",
     "output_type": "stream",
     "text": [
      "     sepal length (cm)  sepal width (cm)  petal length (cm)  petal width (cm)\n",
      "0             0.222222          0.625000           0.067797          0.041667\n",
      "1             0.166667          0.416667           0.067797          0.041667\n",
      "2             0.111111          0.500000           0.050847          0.041667\n",
      "3             0.083333          0.458333           0.084746          0.041667\n",
      "4             0.194444          0.666667           0.067797          0.041667\n",
      "..                 ...               ...                ...               ...\n",
      "145           0.666667          0.416667           0.711864          0.916667\n",
      "146           0.555556          0.208333           0.677966          0.750000\n",
      "147           0.611111          0.416667           0.711864          0.791667\n",
      "148           0.527778          0.583333           0.745763          0.916667\n",
      "149           0.444444          0.416667           0.694915          0.708333\n",
      "\n",
      "[150 rows x 4 columns]\n",
      "feature들의 최솟값\n",
      "sepal length (cm)    0.0\n",
      "sepal width (cm)     0.0\n",
      "petal length (cm)    0.0\n",
      "petal width (cm)     0.0\n",
      "dtype: float64\n",
      "\n",
      "feature들의 최댓값\n",
      "sepal length (cm)    1.0\n",
      "sepal width (cm)     1.0\n",
      "petal length (cm)    1.0\n",
      "petal width (cm)     1.0\n",
      "dtype: float64\n"
     ]
    }
   ],
   "source": [
    "from sklearn.preprocessing import MinMaxScaler\n",
    "\n",
    "# MinMaxScaler 생성\n",
    "scaler = MinMaxScaler()\n",
    "\n",
    "# MinMaxScaler로 데이터 세트 변환. fit()과 transform() 호출\n",
    " # 마찬가지로, 해당 메서드에 변환 대상 피처 데이터 세트를 입력하고 호출하며 간단하게 변환\n",
    "scaler.fit(iris_df)\n",
    "iris_scaled = scaler.transform(iris_df)\n",
    "\n",
    "# transform() 시 스케일 변환된 데이터 세트가 NumPy ndarray로 반환돼 이를 DataFrame으로 변환\n",
    "iris_df_scaled = pd.DataFrame(data=iris_scaled, columns=iris.feature_names)\n",
    "print(iris_df_scaled)   # 위의 식대로 변환함. xi_new = xi-min(x) / max(x) - min(x)\n",
    "print('feature들의 최솟값')\n",
    "print(iris_df_scaled.min())      # 전부다 0으로 만들어버림\n",
    "print('\\nfeature들의 최댓값')\n",
    "print(iris_df_scaled.max())       # 전부다 1로 만들어버림"
   ]
  },
  {
   "cell_type": "code",
   "execution_count": null,
   "metadata": {},
   "outputs": [],
   "source": [
    "ㄴㅁ\n"
   ]
  }
 ],
 "metadata": {
  "kernelspec": {
   "display_name": "Python 3",
   "language": "python",
   "name": "python3"
  },
  "language_info": {
   "codemirror_mode": {
    "name": "ipython",
    "version": 3
   },
   "file_extension": ".py",
   "mimetype": "text/x-python",
   "name": "python",
   "nbconvert_exporter": "python",
   "pygments_lexer": "ipython3",
   "version": "3.7.4"
  }
 },
 "nbformat": 4,
 "nbformat_minor": 2
}
