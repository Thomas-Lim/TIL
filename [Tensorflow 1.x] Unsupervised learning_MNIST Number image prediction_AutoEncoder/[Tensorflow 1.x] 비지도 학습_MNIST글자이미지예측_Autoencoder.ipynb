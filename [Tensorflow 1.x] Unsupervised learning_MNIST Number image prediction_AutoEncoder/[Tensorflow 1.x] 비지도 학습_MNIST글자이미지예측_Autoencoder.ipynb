{
 "cells": [
  {
   "cell_type": "code",
   "execution_count": 1,
   "metadata": {},
   "outputs": [
    {
     "name": "stdout",
     "output_type": "stream",
     "text": [
      "WARNING:tensorflow:From <ipython-input-1-35b75f963996>:6: read_data_sets (from tensorflow.contrib.learn.python.learn.datasets.mnist) is deprecated and will be removed in a future version.\n",
      "Instructions for updating:\n",
      "Please use alternatives such as official/mnist/dataset.py from tensorflow/models.\n",
      "WARNING:tensorflow:From C:\\Users\\fu\\Anaconda3\\lib\\site-packages\\tensorflow\\contrib\\learn\\python\\learn\\datasets\\mnist.py:260: maybe_download (from tensorflow.contrib.learn.python.learn.datasets.base) is deprecated and will be removed in a future version.\n",
      "Instructions for updating:\n",
      "Please write your own downloading logic.\n",
      "WARNING:tensorflow:From C:\\Users\\fu\\Anaconda3\\lib\\site-packages\\tensorflow\\contrib\\learn\\python\\learn\\datasets\\mnist.py:262: extract_images (from tensorflow.contrib.learn.python.learn.datasets.mnist) is deprecated and will be removed in a future version.\n",
      "Instructions for updating:\n",
      "Please use tf.data to implement this functionality.\n",
      "Extracting ./mnist/data/train-images-idx3-ubyte.gz\n",
      "WARNING:tensorflow:From C:\\Users\\fu\\Anaconda3\\lib\\site-packages\\tensorflow\\contrib\\learn\\python\\learn\\datasets\\mnist.py:267: extract_labels (from tensorflow.contrib.learn.python.learn.datasets.mnist) is deprecated and will be removed in a future version.\n",
      "Instructions for updating:\n",
      "Please use tf.data to implement this functionality.\n",
      "Extracting ./mnist/data/train-labels-idx1-ubyte.gz\n",
      "WARNING:tensorflow:From C:\\Users\\fu\\Anaconda3\\lib\\site-packages\\tensorflow\\contrib\\learn\\python\\learn\\datasets\\mnist.py:110: dense_to_one_hot (from tensorflow.contrib.learn.python.learn.datasets.mnist) is deprecated and will be removed in a future version.\n",
      "Instructions for updating:\n",
      "Please use tf.one_hot on tensors.\n",
      "Extracting ./mnist/data/t10k-images-idx3-ubyte.gz\n",
      "Extracting ./mnist/data/t10k-labels-idx1-ubyte.gz\n",
      "WARNING:tensorflow:From C:\\Users\\fu\\Anaconda3\\lib\\site-packages\\tensorflow\\contrib\\learn\\python\\learn\\datasets\\mnist.py:290: DataSet.__init__ (from tensorflow.contrib.learn.python.learn.datasets.mnist) is deprecated and will be removed in a future version.\n",
      "Instructions for updating:\n",
      "Please use alternatives such as official/mnist/dataset.py from tensorflow/models.\n"
     ]
    }
   ],
   "source": [
    "import tensorflow as tf\n",
    "import numpy as np\n",
    "import matplotlib.pyplot as plt\n",
    "\n",
    "from tensorflow.examples.tutorials.mnist import input_data\n",
    "mnist = input_data.read_data_sets(\"./mnist/data/\", one_hot=True)"
   ]
  },
  {
   "cell_type": "code",
   "execution_count": 4,
   "metadata": {},
   "outputs": [],
   "source": [
    "# 하이퍼파라미터로 사용할 옵션들 추가\n",
    "learning_rate = 0.01  # 최적화 함수에 사용할 학습률\n",
    "training_epoch = 20 # 전체 데이터를 학습할 총횟수\n",
    "batch_size = 100 # 미니배치로 한 번에 학습할 데이터\n",
    "n_hidden = 256  # 은닉층의 뉴런 개수\n",
    "n_input = 28*28 # 입력값의 크기  -> 784"
   ]
  },
  {
   "cell_type": "code",
   "execution_count": 14,
   "metadata": {},
   "outputs": [],
   "source": [
    "# 신경망 모델 구성\n",
    "X = tf.placeholder(tf.float32, [None, n_input])\n",
    "\n",
    "# 인코더 만들기\n",
    "\n",
    "W_encode = tf.Variable(tf.random_normal([n_input, n_hidden]))  # n_hidden개의 뉴런을 가진 은닉층 생성, 인풋값보다 히든값이 더 작다. 이렇게 하면 입력값을 압축하고 노이즈를 제거하면서 입력값의 특징을 찾아내게 된다.\n",
    "b_encode = tf.Variable(tf.random_normal([n_hidden]))\n",
    "\n",
    "# 가중치와 편향 변수를 원하는 뉴런의 개수만큼 설정하고, 그 변수들을 입력값과 곱하고 더한 뒤, \n",
    "\n",
    "encoder = tf.nn.sigmoid(tf.add(tf.matmul(X, W_encode), b_encode)) # 활성함수인 시그모이드 함수를 적용"
   ]
  },
  {
   "cell_type": "code",
   "execution_count": 15,
   "metadata": {},
   "outputs": [],
   "source": [
    "# 디코더 생성\n",
    "W_decode = tf.Variable(tf.random_normal([n_hidden, n_input]))\n",
    "b_decode = tf.Variable(tf.random_normal([n_input]))\n",
    "decoder = tf.nn.sigmoid(tf.add(tf.matmul(encoder, W_decode), b_decode)) \n",
    "# 입력값을 은닉층의 크기로, 출력값을 입력층의 크기로 만들었다.\n",
    "\n",
    "#입력층(784) -> 은닉층(256) -> 출력층(784)"
   ]
  },
  {
   "cell_type": "code",
   "execution_count": 16,
   "metadata": {},
   "outputs": [],
   "source": [
    "# 입력값 x 를 평가하기 위한 실측값, 디코더가 내보낸 결괏값과의 차이를 손실값으로 설정. => 이 값의 차이는 거리함수로.\n",
    "cost = tf.reduce_mean(tf.pow(X - decoder, 2))"
   ]
  },
  {
   "cell_type": "code",
   "execution_count": 17,
   "metadata": {},
   "outputs": [
    {
     "name": "stdout",
     "output_type": "stream",
     "text": [
      "WARNING:tensorflow:From C:\\Users\\fu\\Anaconda3\\lib\\site-packages\\tensorflow\\python\\ops\\math_grad.py:1205: add_dispatch_support.<locals>.wrapper (from tensorflow.python.ops.array_ops) is deprecated and will be removed in a future version.\n",
      "Instructions for updating:\n",
      "Use tf.where in 2.0, which has the same broadcast rule as np.where\n",
      "WARNING:tensorflow:From C:\\Users\\fu\\Anaconda3\\lib\\site-packages\\tensorflow\\python\\training\\rmsprop.py:119: calling Ones.__init__ (from tensorflow.python.ops.init_ops) with dtype is deprecated and will be removed in a future version.\n",
      "Instructions for updating:\n",
      "Call initializer instance with the dtype argument instead of passing it to the constructor\n"
     ]
    }
   ],
   "source": [
    "optimizer = tf.train.RMSPropOptimizer(learning_rate).minimize(cost)"
   ]
  },
  {
   "cell_type": "code",
   "execution_count": 18,
   "metadata": {},
   "outputs": [
    {
     "name": "stdout",
     "output_type": "stream",
     "text": [
      "Epoch: 0001 Avg. cost = 0.1953\n",
      "Epoch: 0002 Avg. cost = 0.0625\n",
      "Epoch: 0003 Avg. cost = 0.0529\n",
      "Epoch: 0004 Avg. cost = 0.0494\n",
      "Epoch: 0005 Avg. cost = 0.0450\n",
      "Epoch: 0006 Avg. cost = 0.0430\n",
      "Epoch: 0007 Avg. cost = 0.0413\n",
      "Epoch: 0008 Avg. cost = 0.0403\n",
      "Epoch: 0009 Avg. cost = 0.0386\n",
      "Epoch: 0010 Avg. cost = 0.0381\n",
      "Epoch: 0011 Avg. cost = 0.0372\n",
      "Epoch: 0012 Avg. cost = 0.0369\n",
      "Epoch: 0013 Avg. cost = 0.0366\n",
      "Epoch: 0014 Avg. cost = 0.0364\n",
      "Epoch: 0015 Avg. cost = 0.0363\n",
      "Epoch: 0016 Avg. cost = 0.0361\n",
      "Epoch: 0017 Avg. cost = 0.0357\n",
      "Epoch: 0018 Avg. cost = 0.0356\n",
      "Epoch: 0019 Avg. cost = 0.0354\n",
      "Epoch: 0020 Avg. cost = 0.0352\n",
      "최적화 완료!\n"
     ]
    }
   ],
   "source": [
    "# 항상 쓰이는 학습 진행 코드\n",
    "init = tf.global_variables_initializer()\n",
    "sess = tf.Session()\n",
    "sess.run(init)\n",
    "\n",
    "total_batch = int(mnist.train.num_examples / batch_size)\n",
    "\n",
    "for epoch in range(training_epoch):\n",
    "    total_cost = 0\n",
    "    \n",
    "    for i in range(total_batch):\n",
    "        batch_xs, batch_ys = mnist.train.next_batch(batch_size)\n",
    "        _, cost_val = sess.run([optimizer, cost], feed_dict={X: batch_xs})\n",
    "        \n",
    "        total_cost += cost_val\n",
    "        \n",
    "    print('Epoch:', '%04d' % (epoch + 1), 'Avg. cost =', '{:.4f}'.format(total_cost / total_batch))\n",
    "    \n",
    "print('최적화 완료!')"
   ]
  },
  {
   "cell_type": "code",
   "execution_count": 19,
   "metadata": {},
   "outputs": [],
   "source": [
    "# 결괏값을 정확도가 아닌, 디코더로 생성해낸 결과를 직관적인 방법으로 확인.\n",
    "\n",
    "# 총 10개의 테스트 데이터를 가져와 디코더를 이용해 출력값으로 만듬.\n",
    "sample_size = 10\n",
    "\n",
    "samples = sess.run(decoder, feed_dict={X: mnist.test.images[:sample_size]})"
   ]
  },
  {
   "cell_type": "code",
   "execution_count": 23,
   "metadata": {},
   "outputs": [
    {
     "data": {
      "image/png": "[encoded data removed]",
      "text/plain": [
       "<Figure size 720x144 with 20 Axes>"
      ]
     },
     "metadata": {
      "needs_background": "light"
     },
     "output_type": "display_data"
    }
   ],
   "source": [
    "# 위쪽엔 입력값 이미지\n",
    "# 아래쪽엔 신경망 생성 이미지\n",
    "\n",
    "fig, ax = plt.subplots(2, sample_size, figsize=(sample_size, 2))\n",
    "\n",
    "for i in range(sample_size):\n",
    "    ax[0][i].set_axis_off()\n",
    "    ax[1][i].set_axis_off()\n",
    "    ax[0][i].imshow(np.reshape(mnist.test.images[i], (28, 28)))\n",
    "    ax[1][i].imshow(np.reshape(samples[i], (28, 28)))\n",
    "    \n",
    "plt.show()"
   ]
  },
  {
   "cell_type": "raw",
   "metadata": {},
   "source": []
  }
 ],
 "metadata": {
  "kernelspec": {
   "display_name": "Python 3",
   "language": "python",
   "name": "python3"
  },
  "language_info": {
   "codemirror_mode": {
    "name": "ipython",
    "version": 3
   },
   "file_extension": ".py",
   "mimetype": "text/x-python",
   "name": "python",
   "nbconvert_exporter": "python",
   "pygments_lexer": "ipython3",
   "version": "3.7.3"
  }
 },
 "nbformat": 4,
 "nbformat_minor": 2
}
