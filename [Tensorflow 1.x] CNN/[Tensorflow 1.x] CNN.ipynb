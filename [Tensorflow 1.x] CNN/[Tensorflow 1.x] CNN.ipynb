{
 "cells": [
  {
   "cell_type": "code",
   "execution_count": 4,
   "metadata": {},
   "outputs": [
    {
     "name": "stdout",
     "output_type": "stream",
     "text": [
      "Extracting ./mnist/data\\train-images-idx3-ubyte.gz\n",
      "Extracting ./mnist/data\\train-labels-idx1-ubyte.gz\n",
      "Extracting ./mnist/data\\t10k-images-idx3-ubyte.gz\n",
      "Extracting ./mnist/data\\t10k-labels-idx1-ubyte.gz\n"
     ]
    }
   ],
   "source": [
    "import tensorflow as tf\n",
    "\n",
    "from tensorflow.examples.tutorials.mnist import input_data\n",
    "mnist = input_data.read_data_sets(\"./mnist/data\", one_hot=True)"
   ]
  },
  {
   "cell_type": "code",
   "execution_count": 6,
   "metadata": {},
   "outputs": [],
   "source": [
    "X = tf.placeholder(tf.float32, [None, 28, 28, 1])  # 28x28 차원. 2차원 중 첫번째. 마지막 차원 1은 특징의 개수 = 회색조 이미지라 채널이 한개\n",
    "Y = tf.placeholder(tf.float32, [None, 10])  # 출력값이 10개인 분류. 2차원 중 두번째\n",
    "keep_prob = tf.placeholder(tf.float32)"
   ]
  },
  {
   "cell_type": "code",
   "execution_count": 7,
   "metadata": {},
   "outputs": [],
   "source": [
    "# 3x3 크기의 컨벌루션 계층 생성\n",
    "W1 = tf.Variable(tf.random_normal([3, 3, 1, 32], stddev=0.01))\n",
    "L1 = tf.nn.conv2d(X, W1, strides=[1, 1, 1, 1], padding='SAME')   # 커널 슬라이딩 시 이미지의 가장 외곽에서 한 칸 밖으로 움직이는 옵션. 이미지 테두리까지 조금 더 정확하게 평가 가능\n",
    "L1 = tf.nn.relu(L1)\n",
    "\n",
    "# 입력층 X와 첫 번째 계층의 가중치 W1을 가지고 오른쪽과 아래쪽으로 한 칸씩 움직이는 32개의 커널을 가진 컨볼류션 계층을 만들겠다는 코드.\n",
    "\n",
    "\n",
    "\n",
    "# 고수준 API 적용 시 아래와 같이 줄어 듬\n",
    "# L1 = tf.layers.conv2d(X, 32, [3, 3])\n",
    "# L1 = tf.layers.max_pooling2d(L1, [2, 2], [2, 2])"
   ]
  },
  {
   "cell_type": "code",
   "execution_count": 8,
   "metadata": {},
   "outputs": [],
   "source": [
    "# 풀링 계층 생성\n",
    "L1 = tf.nn.max_pool(L1, ksize=[1,2,2,1], strides=[1,2,2,1], padding='SAME')\n",
    "\n",
    "# 앞서 만든 컨볼루션 계층을 입력층으로, 커널 크기를 2x2로 하는 풀링계층 생성. Strides 값은 슬라이딩 시 두 칸씩 움직이겠다는 옵션"
   ]
  },
  {
   "cell_type": "code",
   "execution_count": 11,
   "metadata": {},
   "outputs": [],
   "source": [
    "# 두 번째 계층 생성\n",
    "\n",
    "W2 = tf.Variable(tf.random_normal([3,3,32,64], stddev=0.01))\n",
    "L2 = tf.nn.conv2d(L1, W2, strides=[1,1,1,1], padding='SAME')\n",
    "L2 = tf.nn.relu(L2)\n",
    "L2 = tf.nn.max_pool(L2, ksize=[1, 2, 2, 1], strides=[1, 2, 2, 1], padding = 'SAME')\n",
    "\n",
    "# 3x3 크기 커널 64개의 컨볼루션 계층, 2x2크기의 풀링 계층.\n",
    "# W2 변수의 구성은 [3,3,32,64]. 32는 앞서 구성한 첫 번째 컨볼루션 계층의 커널 개수. -> 출력층의 개수이며 또한 첫 번째 컨볼루션 계층이 찾아낸 이미지의 특징 개수"
   ]
  },
  {
   "cell_type": "code",
   "execution_count": 13,
   "metadata": {},
   "outputs": [
    {
     "name": "stdout",
     "output_type": "stream",
     "text": [
      "WARNING:tensorflow:From <ipython-input-13-4ee1fdbb1c08>:7: calling dropout (from tensorflow.python.ops.nn_ops) with keep_prob is deprecated and will be removed in a future version.\n",
      "Instructions for updating:\n",
      "Please use `rate` instead of `keep_prob`. Rate should be set to `rate = 1 - keep_prob`.\n"
     ]
    }
   ],
   "source": [
    "# 추출한 특징들을 이용해 10개의 분류를 만들어내는 계층 구성\n",
    "\n",
    "W3 = tf.Variable(tf.random_normal([7 * 7* 64,256], stddev=0.01))\n",
    "L3 = tf.reshape(L2, [-1, 7 * 7 * 64])  # 차원 을 줄임.1차원 계층으로 만들고. \n",
    "L3 = tf.matmul(L3, W3) # 이 배열 전체를 최종 출력값의 중간단계인 256개의 뉴런으로 연결하는 신경망 생성\n",
    "L3 = tf.nn.relu(L3)\n",
    "L3 = tf.nn.dropout(L3, keep_prob)\n",
    "\n",
    "# 인접한 계층의 모든 뉴런과 상호 연결 -> 풀리 커넥티드 레이어\n",
    "# 그리고 과적합을 막아주는 드롭아웃 사용.\n",
    "\n",
    "\n",
    "\n",
    "# 고수준 API 적용 시 아래와 같이 줄어 듬\n",
    "# L3 = tf.contrib.layers.faltten(L2)\n",
    "# L3 = tf.layers.dense(L1, 256, activation=tf.nn.relu)\n",
    "\n",
    "# 이렇게 tf.layers 등의 고급 API 사용 시, 활성화 함수나 컨볼루션 계층을 만들기 위한 나머지 수치들을 알아서 계산하고 적용해 줌."
   ]
  },
  {
   "cell_type": "code",
   "execution_count": 16,
   "metadata": {},
   "outputs": [],
   "source": [
    "# 은닉층인 L3의 출력값 256개를 받아 최종 출력값인 0~9 레이블을 갖는 10개의 출력값 생성\n",
    "W4 = tf.Variable(tf.random_normal([256, 10], stddev=0.01))\n",
    "model = tf.matmul(L3, W4)\n",
    "\n",
    "# 손실함수 생성 및 AdamOptimizere\n",
    "cost = tf.reduce_mean(tf.nn.softmax_cross_entropy_with_logits_v2(logits=model, labels=Y))\n",
    "optimizer = tf.train.AdamOptimizer(0.001).minimize(cost)"
   ]
  },
  {
   "cell_type": "code",
   "execution_count": 18,
   "metadata": {},
   "outputs": [
    {
     "name": "stdout",
     "output_type": "stream",
     "text": [
      "Epoch: 0001 Avg. cost = 0.351\n",
      "Epoch: 0002 Avg. cost = 0.109\n",
      "Epoch: 0003 Avg. cost = 0.076\n",
      "Epoch: 0004 Avg. cost = 0.060\n",
      "Epoch: 0005 Avg. cost = 0.047\n",
      "Epoch: 0006 Avg. cost = 0.041\n",
      "Epoch: 0007 Avg. cost = 0.036\n",
      "Epoch: 0008 Avg. cost = 0.031\n",
      "Epoch: 0009 Avg. cost = 0.027\n",
      "Epoch: 0010 Avg. cost = 0.023\n",
      "Epoch: 0011 Avg. cost = 0.021\n",
      "Epoch: 0012 Avg. cost = 0.019\n",
      "Epoch: 0013 Avg. cost = 0.018\n",
      "Epoch: 0014 Avg. cost = 0.017\n",
      "Epoch: 0015 Avg. cost = 0.015\n",
      "최적화 완료!\n"
     ]
    }
   ],
   "source": [
    "# 학습을 시키고 결과를 확인하는 코드\n",
    "### 신경망 모델 학습 ###\n",
    "\n",
    "init = tf.global_variables_initializer()\n",
    "sess = tf.Session()\n",
    "sess.run(init)\n",
    "\n",
    "batch_size = 100\n",
    "total_batch = int(mnist.train.num_examples / batch_size)\n",
    "\n",
    "for epoch in range(15):\n",
    "    total_cost = 0\n",
    "    \n",
    "    for i in range(total_batch):\n",
    "        batch_xs, batch_ys = mnist.train.next_batch(batch_size)\n",
    "        batch_xs = batch_xs.reshape(-1, 28, 28, 1)\n",
    "        \n",
    "        _, cost_val = sess.run([optimizer, cost], feed_dict={X: batch_xs, Y: batch_ys, keep_prob: 0.7})\n",
    "        \n",
    "        total_cost += cost_val\n",
    "        \n",
    "    print('Epoch:', '%04d' % (epoch + 1),\n",
    "         'Avg. cost =', '{:.3f}'.format(total_cost / total_batch))\n",
    "    \n",
    "print('최적화 완료!')"
   ]
  },
  {
   "cell_type": "code",
   "execution_count": 20,
   "metadata": {},
   "outputs": [
    {
     "name": "stdout",
     "output_type": "stream",
     "text": [
      "정확도: 0.9894\n"
     ]
    }
   ],
   "source": [
    "### 결과 확인\n",
    "\n",
    "is_correct = tf.equal(tf.argmax(model, 1), tf.argmax(Y, 1))\n",
    "accuracy = tf.reduce_mean(tf.cast(is_correct, tf.float32))\n",
    "print('정확도:', sess.run(accuracy, feed_dict={X: mnist.test.images.reshape( -1, 28, 28, 1), \n",
    "                                               Y: mnist.test.labels, keep_prob: 1}))\n",
    "\n",
    "\n",
    "# 뉴런과 계층 수를 늘리거나 하이퍼 파라미터들을 변경하면서 정확도 향상 실험 해보면 좋다."
   ]
  },
  {
   "cell_type": "code",
   "execution_count": null,
   "metadata": {},
   "outputs": [],
   "source": []
  }
 ],
 "metadata": {
  "kernelspec": {
   "display_name": "Python 3",
   "language": "python",
   "name": "python3"
  },
  "language_info": {
   "codemirror_mode": {
    "name": "ipython",
    "version": 3
   },
   "file_extension": ".py",
   "mimetype": "text/x-python",
   "name": "python",
   "nbconvert_exporter": "python",
   "pygments_lexer": "ipython3",
   "version": "3.7.3"
  }
 },
 "nbformat": 4,
 "nbformat_minor": 2
}
