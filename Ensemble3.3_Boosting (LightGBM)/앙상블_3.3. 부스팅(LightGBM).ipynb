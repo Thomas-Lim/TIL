{
 "cells": [
  {
   "cell_type": "markdown",
   "metadata": {},
   "source": [
    "# LightGBM\n",
    "## 장점 : 1) XGBoost 보다 학습에 걸리는 시간이 적음. 2) XGBoost의 예측성능은 별다른 차이가 없다. 3) 기능상의 다양성이 보다 많다.\n",
    "## 단점 : 적은 데이터 세트에 적용할 경우 과적합이 발생하기 쉽다. (10,000건 이하의 데이터 세트)"
   ]
  },
  {
   "cell_type": "code",
   "execution_count": null,
   "metadata": {},
   "outputs": [],
   "source": []
  }
 ],
 "metadata": {
  "kernelspec": {
   "display_name": "Python 3",
   "language": "python",
   "name": "python3"
  },
  "language_info": {
   "codemirror_mode": {
    "name": "ipython",
    "version": 3
   },
   "file_extension": ".py",
   "mimetype": "text/x-python",
   "name": "python",
   "nbconvert_exporter": "python",
   "pygments_lexer": "ipython3",
   "version": "3.7.3"
  }
 },
 "nbformat": 4,
 "nbformat_minor": 2
}
